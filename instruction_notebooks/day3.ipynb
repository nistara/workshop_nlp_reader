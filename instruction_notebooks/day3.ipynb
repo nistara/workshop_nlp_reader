{
 "cells": [
  {
   "cell_type": "code",
   "execution_count": null,
   "id": "542e7425-504d-4730-9244-058e716224dd",
   "metadata": {},
   "outputs": [],
   "source": [
    "!pip install spacy tabulate\n",
    "!python -m spacy download en_core_web_md"
   ]
  },
  {
   "cell_type": "code",
   "execution_count": 2,
   "id": "8ec2a808-1267-48c8-9654-c81da37f092c",
   "metadata": {},
   "outputs": [],
   "source": [
    "# Text mining\n",
    "# -----------\n",
    "# Text Data, Data, and Language\n",
    "# Print conventions and code conventions\n",
    "# Token != Word\n",
    "# Tokenization procedures\n",
    "# Preprocessing to reduce long tails\n",
    "# + Token distribution and reducing long tails\n",
    "# + \"Compressing\" our text: e.g. casing, lemmatizing, stemming, etc.\n",
    "# + Removing stopwords, digits, punctuation\n",
    "# What are we actually going to count?\n",
    "# + Ngrams (n-length tokens => tokens)\n",
    "# + Association scoring with pointwise mutual information\n",
    "# Data structures for doing this work, including document-term matrix\n",
    "# + Vectorization, (Adrian Mackenzie, The Machine Learners)\n",
    "# + Vector spaces\n",
    "# + Vector space semantics (you shall know a word by the company it keeps!)\n",
    "# Similarity measures\n",
    "# + Cosine similarity\n",
    "# + tf-idf (specificity)\n",
    "# Topic modeling"
   ]
  },
  {
   "cell_type": "code",
   "execution_count": 3,
   "id": "b24071ff-2507-470d-b4e3-ac9229689ac9",
   "metadata": {},
   "outputs": [],
   "source": [
    "from pathlib import Path\n",
    "from collections import Counter, defaultdict\n",
    "from tabulate import tabulate\n",
    "import spacy"
   ]
  },
  {
   "cell_type": "code",
   "execution_count": 4,
   "id": "66b28e19-1aed-4a1c-b5c4-0748f44e35e6",
   "metadata": {},
   "outputs": [],
   "source": [
    "indir = Path(\"data/section_two/s1\")"
   ]
  },
  {
   "cell_type": "code",
   "execution_count": 5,
   "id": "fb29ff5a-31a7-4524-a150-9ee8d0fb2012",
   "metadata": {},
   "outputs": [],
   "source": [
    "nlp = spacy.load(\"en_core_web_md\")"
   ]
  },
  {
   "cell_type": "code",
   "execution_count": 6,
   "id": "0c693ee2-250c-41ae-a6c6-b4512a582411",
   "metadata": {},
   "outputs": [
    {
     "data": {
      "text/plain": [
       "'A kind in glass and a cousin, a spectacle and nothing strange a single hurt color and an arrangement in a system to pointing. All this and not ordinary, not unordered in not resembling. The difference is spreading.'"
      ]
     },
     "execution_count": 6,
     "metadata": {},
     "output_type": "execute_result"
    }
   ],
   "source": [
    "with indir.joinpath(\"stein_carafe.txt\").open(\"r\") as fin:\n",
    "    poem = fin.read()\n",
    "\n",
    "poem"
   ]
  },
  {
   "cell_type": "code",
   "execution_count": 7,
   "id": "7f970444-fdb3-4153-8b3d-d06910dcecab",
   "metadata": {},
   "outputs": [
    {
     "data": {
      "text/plain": [
       "A kind in glass and a cousin, a spectacle and nothing strange a single hurt color and an arrangement in a system to pointing. All this and not ordinary, not unordered in not resembling. The difference is spreading."
      ]
     },
     "execution_count": 7,
     "metadata": {},
     "output_type": "execute_result"
    }
   ],
   "source": [
    "carafe = nlp(poem)\n",
    "carafe"
   ]
  },
  {
   "cell_type": "code",
   "execution_count": 8,
   "id": "3b3e39f9-6a95-430f-a12f-c6ab9e72a881",
   "metadata": {
    "scrolled": true
   },
   "outputs": [
    {
     "data": {
      "text/plain": [
       "['_',\n",
       " '__bytes__',\n",
       " '__class__',\n",
       " '__delattr__',\n",
       " '__dir__',\n",
       " '__doc__',\n",
       " '__eq__',\n",
       " '__format__',\n",
       " '__ge__',\n",
       " '__getattribute__',\n",
       " '__getitem__',\n",
       " '__getstate__',\n",
       " '__gt__',\n",
       " '__hash__',\n",
       " '__init__',\n",
       " '__init_subclass__',\n",
       " '__iter__',\n",
       " '__le__',\n",
       " '__len__',\n",
       " '__lt__',\n",
       " '__ne__',\n",
       " '__new__',\n",
       " '__pyx_vtable__',\n",
       " '__reduce__',\n",
       " '__reduce_ex__',\n",
       " '__repr__',\n",
       " '__setattr__',\n",
       " '__setstate__',\n",
       " '__sizeof__',\n",
       " '__str__',\n",
       " '__subclasshook__',\n",
       " '__unicode__',\n",
       " '_bulk_merge',\n",
       " '_context',\n",
       " '_get_array_attrs',\n",
       " '_realloc',\n",
       " '_vector',\n",
       " '_vector_norm',\n",
       " 'cats',\n",
       " 'char_span',\n",
       " 'copy',\n",
       " 'count_by',\n",
       " 'doc',\n",
       " 'ents',\n",
       " 'extend_tensor',\n",
       " 'from_array',\n",
       " 'from_bytes',\n",
       " 'from_dict',\n",
       " 'from_disk',\n",
       " 'from_docs',\n",
       " 'from_json',\n",
       " 'get_extension',\n",
       " 'get_lca_matrix',\n",
       " 'has_annotation',\n",
       " 'has_extension',\n",
       " 'has_unknown_spaces',\n",
       " 'has_vector',\n",
       " 'is_nered',\n",
       " 'is_parsed',\n",
       " 'is_sentenced',\n",
       " 'is_tagged',\n",
       " 'lang',\n",
       " 'lang_',\n",
       " 'mem',\n",
       " 'noun_chunks',\n",
       " 'noun_chunks_iterator',\n",
       " 'remove_extension',\n",
       " 'retokenize',\n",
       " 'sentiment',\n",
       " 'sents',\n",
       " 'set_ents',\n",
       " 'set_extension',\n",
       " 'similarity',\n",
       " 'spans',\n",
       " 'tensor',\n",
       " 'text',\n",
       " 'text_with_ws',\n",
       " 'to_array',\n",
       " 'to_bytes',\n",
       " 'to_dict',\n",
       " 'to_disk',\n",
       " 'to_json',\n",
       " 'to_utf8_array',\n",
       " 'user_data',\n",
       " 'user_hooks',\n",
       " 'user_span_hooks',\n",
       " 'user_token_hooks',\n",
       " 'vector',\n",
       " 'vector_norm',\n",
       " 'vocab']"
      ]
     },
     "execution_count": 8,
     "metadata": {},
     "output_type": "execute_result"
    }
   ],
   "source": [
    "dir(carafe)"
   ]
  },
  {
   "cell_type": "code",
   "execution_count": 9,
   "id": "a44a1a5f-afc5-4def-bfff-819dd20c3614",
   "metadata": {},
   "outputs": [
    {
     "data": {
      "text/plain": [
       "True"
      ]
     },
     "execution_count": 9,
     "metadata": {},
     "output_type": "execute_result"
    }
   ],
   "source": [
    "carafe.has_annotation(\"TAG\")"
   ]
  },
  {
   "cell_type": "code",
   "execution_count": 11,
   "id": "65d93ac2-fa2a-4313-b5cd-c7f5f8c48501",
   "metadata": {},
   "outputs": [
    {
     "data": {
      "text/plain": [
       "[A kind in glass and a cousin, a spectacle and nothing strange a single hurt color and an arrangement in a system to pointing.,\n",
       " All this and not ordinary, not unordered in not resembling.,\n",
       " The difference is spreading.]"
      ]
     },
     "execution_count": 11,
     "metadata": {},
     "output_type": "execute_result"
    }
   ],
   "source": [
    "list(carafe.sents)"
   ]
  },
  {
   "cell_type": "code",
   "execution_count": 12,
   "id": "f9c30fbb-6c1c-454e-b32b-1390cdc195b6",
   "metadata": {},
   "outputs": [
    {
     "name": "stdout",
     "output_type": "stream",
     "text": [
      "A kind in glass and a cousin, a spectacle and nothing strange a single hurt color and an arrangement in a system to pointing.\n",
      "All this and not ordinary, not unordered in not resembling.\n",
      "The difference is spreading.\n"
     ]
    }
   ],
   "source": [
    "for sentence in carafe.sents:\n",
    "    print(sentence)"
   ]
  },
  {
   "cell_type": "code",
   "execution_count": 14,
   "id": "d08ba717-0c6e-4073-8fe6-3e5226ae9e31",
   "metadata": {},
   "outputs": [
    {
     "ename": "TypeError",
     "evalue": "'generator' object is not subscriptable",
     "output_type": "error",
     "traceback": [
      "\u001b[0;31m---------------------------------------------------------------------------\u001b[0m",
      "\u001b[0;31mTypeError\u001b[0m                                 Traceback (most recent call last)",
      "Cell \u001b[0;32mIn[14], line 1\u001b[0m\n\u001b[0;32m----> 1\u001b[0m \u001b[43mcarafe\u001b[49m\u001b[38;5;241;43m.\u001b[39;49m\u001b[43msents\u001b[49m\u001b[43m[\u001b[49m\u001b[38;5;241;43m0\u001b[39;49m\u001b[43m]\u001b[49m\n",
      "\u001b[0;31mTypeError\u001b[0m: 'generator' object is not subscriptable"
     ]
    }
   ],
   "source": [
    "carafe.sents[0]"
   ]
  },
  {
   "cell_type": "code",
   "execution_count": 15,
   "id": "6f3482f1-f1d9-4204-a1a0-9e6c930327b2",
   "metadata": {},
   "outputs": [
    {
     "data": {
      "text/plain": [
       "<generator at 0x12ae4bb50>"
      ]
     },
     "execution_count": 15,
     "metadata": {},
     "output_type": "execute_result"
    }
   ],
   "source": [
    "carafe.noun_chunks"
   ]
  },
  {
   "cell_type": "code",
   "execution_count": 16,
   "id": "b6b13e1b-9513-4cf0-baf2-294dec2c4b75",
   "metadata": {},
   "outputs": [
    {
     "name": "stdout",
     "output_type": "stream",
     "text": [
      "A kind\n",
      "glass\n",
      "a cousin\n",
      "a spectacle\n",
      "nothing\n",
      "a single hurt color\n",
      "an arrangement\n",
      "a system\n",
      "All this\n",
      "The difference\n"
     ]
    }
   ],
   "source": [
    "for chunk in carafe.noun_chunks:\n",
    "    print(chunk)"
   ]
  },
  {
   "cell_type": "code",
   "execution_count": 17,
   "id": "3897756f-738c-49d2-9ff2-2ee100ef9e46",
   "metadata": {},
   "outputs": [],
   "source": [
    "with indir.joinpath(\"odyssey_book_11.txt\").open(\"r\") as fin:\n",
    "    book11 = fin.read()\n",
    "\n",
    "odyssey = nlp(book11)"
   ]
  },
  {
   "cell_type": "code",
   "execution_count": 18,
   "id": "c2acd09f-cf1e-4346-bad9-a28af5592b38",
   "metadata": {},
   "outputs": [
    {
     "data": {
      "text/plain": [
       "Then, when we had got down to the sea shore we drew our ship into the water and got her mast and sails into her; we also put the sheep on board and took our places, weeping and in great distress of mind. Circe, that great and cunning goddess, sent us a fair wind that blew dead aft and stayed steadily with us keeping our sails all the time well filled; so we did whatever wanted doing to the ship's gear and let her go as the wind and helmsman headed her"
      ]
     },
     "execution_count": 18,
     "metadata": {},
     "output_type": "execute_result"
    }
   ],
   "source": [
    "odyssey[:100]"
   ]
  },
  {
   "cell_type": "code",
   "execution_count": 20,
   "id": "cc962f36-1a0c-4bcf-8dca-6e6d56c3798a",
   "metadata": {},
   "outputs": [
    {
     "data": {
      "text/plain": [
       "'The difference'"
      ]
     },
     "execution_count": 20,
     "metadata": {},
     "output_type": "execute_result"
    }
   ],
   "source": [
    "chunk.text"
   ]
  },
  {
   "cell_type": "code",
   "execution_count": 22,
   "id": "3298cec6-52b0-438c-8615-f8e218d5fc31",
   "metadata": {},
   "outputs": [],
   "source": [
    "counts = Counter([chunk.text for chunk in odyssey.noun_chunks])"
   ]
  },
  {
   "cell_type": "code",
   "execution_count": 25,
   "id": "58559281-67a1-4710-bb74-cb276bd80dcc",
   "metadata": {},
   "outputs": [
    {
     "name": "stdout",
     "output_type": "stream",
     "text": [
      "Chunk                       Length\n",
      "------------------------  --------\n",
      "the sea shore                    3\n",
      "a fair wind                      3\n",
      "the poor feckless ghosts         4\n",
      "the same time                    3\n",
      "the other side                   3\n",
      "his golden sceptre               3\n",
      "your own house                   3\n",
      "her own son                      3\n",
      "the Achaean land                 3\n",
      "her own husband                  3\n",
      "my wicked wife                   3\n",
      "all the Danaans                  3\n",
      "the poor creature                3\n"
     ]
    }
   ],
   "source": [
    "repeats = []\n",
    "for chunk, count in counts.items():\n",
    "    length = len(chunk.split())\n",
    "    if length > 2 and count > 1:\n",
    "        repeats.append([chunk, length])\n",
    "\n",
    "table = tabulate(repeats, [\"Chunk\", \"Length\"])\n",
    "print(table)"
   ]
  },
  {
   "cell_type": "code",
   "execution_count": 26,
   "id": "fdb45da8-090f-46ba-9fd9-304ba666a8ea",
   "metadata": {
    "scrolled": true
   },
   "outputs": [
    {
     "data": {
      "text/plain": [
       "(Circe,\n",
       " Oceanus,\n",
       " Cimmerians,\n",
       " one,\n",
       " Oceanus,\n",
       " Circe,\n",
       " Here Perimedes and Eurylochus,\n",
       " first,\n",
       " thirdly,\n",
       " Ithaca,\n",
       " Teiresias,\n",
       " two,\n",
       " every quarter,\n",
       " two,\n",
       " Hades,\n",
       " Proserpine,\n",
       " Teiresias,\n",
       " first,\n",
       " Elpenor,\n",
       " Circe,\n",
       " Circe,\n",
       " Hades,\n",
       " Telemachus,\n",
       " the Aeaean island,\n",
       " days,\n",
       " one,\n",
       " Autolycus,\n",
       " Troy,\n",
       " Teiresias,\n",
       " Theban Teiresias,\n",
       " Ulysses,\n",
       " Laertes,\n",
       " the light of day,\n",
       " Neptune,\n",
       " the Thrinacian island,\n",
       " Ithaca,\n",
       " Neptune,\n",
       " Teiresias,\n",
       " Hades,\n",
       " Oceanus,\n",
       " Troy,\n",
       " Ithaca,\n",
       " 'Mother,\n",
       " Theban,\n",
       " Teiresias,\n",
       " Achaean,\n",
       " one,\n",
       " the very first day,\n",
       " Agamemnon,\n",
       " Ilius,\n",
       " Trojans,\n",
       " both night,\n",
       " Telemachus,\n",
       " the winter,\n",
       " summer,\n",
       " Hades,\n",
       " Proserpine,\n",
       " Proserpine,\n",
       " the light of day,\n",
       " first,\n",
       " Tyro,\n",
       " Salmoneus,\n",
       " Cretheus,\n",
       " Aeolus,\n",
       " Neptune,\n",
       " Tyro,\n",
       " twelve months,\n",
       " Pelias,\n",
       " Neleus,\n",
       " Jove,\n",
       " Pelias,\n",
       " Iolcus,\n",
       " Pylos,\n",
       " Cretheus,\n",
       " Aeson, Pheres,\n",
       " Amythaon,\n",
       " Antiope,\n",
       " Asopus,\n",
       " Jove,\n",
       " two,\n",
       " Thebes,\n",
       " seven,\n",
       " Thebes,\n",
       " Alcmena,\n",
       " Amphitryon,\n",
       " Jove,\n",
       " Hercules,\n",
       " Megara,\n",
       " Creon,\n",
       " Amphitryon,\n",
       " Epicaste,\n",
       " Thebes,\n",
       " Epicaste,\n",
       " Chloris,\n",
       " Neleus,\n",
       " Iasus,\n",
       " Minyan,\n",
       " Queen,\n",
       " Pylos,\n",
       " Chromius,\n",
       " Periclymenus,\n",
       " Pero,\n",
       " Neleus,\n",
       " Phylace,\n",
       " a full year,\n",
       " the same season,\n",
       " Jove,\n",
       " Leda,\n",
       " Tyndarus,\n",
       " two,\n",
       " Pollux,\n",
       " Jove,\n",
       " one,\n",
       " every other day,\n",
       " Neptune,\n",
       " two,\n",
       " Otus,\n",
       " Ephialtes,\n",
       " Orion,\n",
       " nine years old,\n",
       " nine,\n",
       " nine cubits,\n",
       " Olympus,\n",
       " Mount Ossa,\n",
       " Mount Olympus,\n",
       " Mount Pelion,\n",
       " Ossa,\n",
       " Apollo,\n",
       " Leto,\n",
       " Phaedra,\n",
       " Ariadne,\n",
       " Minos,\n",
       " Crete,\n",
       " Athens,\n",
       " Diana,\n",
       " Dia,\n",
       " Bacchus,\n",
       " Maera,\n",
       " Clymene,\n",
       " Eriphyle,\n",
       " all night,\n",
       " O Phaecians,\n",
       " Echeneus,\n",
       " august,\n",
       " King Alcinous,\n",
       " Alcinous,\n",
       " Phaeacians,\n",
       " morrow,\n",
       " Ulysses,\n",
       " King Alcinous,\n",
       " a whole twelve months,\n",
       " Ithaca,\n",
       " Alcinous,\n",
       " Troy,\n",
       " morrow,\n",
       " morning,\n",
       " Alcinous,\n",
       " Ulysses,\n",
       " Trojans,\n",
       " Proserpine,\n",
       " Agamemnon,\n",
       " Atreus,\n",
       " the house of Aegisthus,\n",
       " Laertes,\n",
       " Neptune,\n",
       " Aegisthus,\n",
       " Priam,\n",
       " Cassandra,\n",
       " Clytemnestra,\n",
       " Jove,\n",
       " Atreus,\n",
       " first,\n",
       " Helen,\n",
       " Clytemnestra,\n",
       " Agamemnon,\n",
       " Ulysses,\n",
       " Penelope,\n",
       " Troy,\n",
       " one,\n",
       " Ithaca,\n",
       " Orestes,\n",
       " Pylos,\n",
       " Sparta,\n",
       " two,\n",
       " Achilles,\n",
       " Patroclus,\n",
       " Antilochus,\n",
       " Ajax,\n",
       " Danaans,\n",
       " Peleus,\n",
       " Aeacus,\n",
       " Laertes,\n",
       " Achilles,\n",
       " Peleus,\n",
       " Achaeans,\n",
       " Teiresias,\n",
       " Ithaca,\n",
       " Achaean,\n",
       " Achilles,\n",
       " Peleus-,\n",
       " Myrmidons,\n",
       " Hellas,\n",
       " Phthia,\n",
       " the light of day,\n",
       " Peleus,\n",
       " Neoptolemus,\n",
       " Scyros,\n",
       " Achaeans,\n",
       " Troy,\n",
       " first,\n",
       " Troy,\n",
       " Eurypylus,\n",
       " Memnon,\n",
       " Ceteians,\n",
       " Epeus,\n",
       " Danaans,\n",
       " Priam,\n",
       " Mars,\n",
       " Achilles,\n",
       " Ajax,\n",
       " Telamon,\n",
       " Achilles,\n",
       " Thetis,\n",
       " Trojan,\n",
       " Minerva,\n",
       " the day,\n",
       " Ajax,\n",
       " Danaans,\n",
       " Peleus,\n",
       " Ajax,\n",
       " Achilles,\n",
       " Peleus,\n",
       " Jove,\n",
       " Danaans,\n",
       " Erebus,\n",
       " Minos,\n",
       " Jove,\n",
       " Hades,\n",
       " Orion,\n",
       " Tityus,\n",
       " Gaia,\n",
       " some nine acres,\n",
       " Two,\n",
       " Jove,\n",
       " Leto,\n",
       " Panopeus,\n",
       " Pytho,\n",
       " Tantalus,\n",
       " Sisyphus,\n",
       " Hercules,\n",
       " Hebe,\n",
       " Jove,\n",
       " Juno,\n",
       " Hercules,\n",
       " Ulysses,\n",
       " Laertes,\n",
       " Jove,\n",
       " Hades,\n",
       " Mercury,\n",
       " Minerva,\n",
       " Hercules,\n",
       " Hades,\n",
       " so many thousands,\n",
       " Proserpine,\n",
       " Gorgon,\n",
       " Oceanus,\n",
       " first)"
      ]
     },
     "execution_count": 26,
     "metadata": {},
     "output_type": "execute_result"
    }
   ],
   "source": [
    "odyssey.ents"
   ]
  },
  {
   "cell_type": "code",
   "execution_count": 27,
   "id": "7107b0af-a22a-4756-8444-3b4bbc62fbf7",
   "metadata": {},
   "outputs": [
    {
     "name": "stdout",
     "output_type": "stream",
     "text": [
      "['both night', 'all night', 'morning']\n"
     ]
    }
   ],
   "source": [
    "time = [ent.text for ent in odyssey.ents if ent.label_ == \"TIME\"]\n",
    "print(time)"
   ]
  },
  {
   "cell_type": "code",
   "execution_count": 31,
   "id": "6452d502-1f0e-42f7-8a29-24421cc63718",
   "metadata": {},
   "outputs": [
    {
     "data": {
      "text/plain": [
       "'Countries, cities, states'"
      ]
     },
     "execution_count": 31,
     "metadata": {},
     "output_type": "execute_result"
    }
   ],
   "source": [
    "spacy.explain(\"GPE\")"
   ]
  },
  {
   "cell_type": "code",
   "execution_count": 29,
   "id": "3e7fd92b-34b9-4082-94f4-48e5a1d1a78e",
   "metadata": {},
   "outputs": [
    {
     "data": {
      "text/plain": [
       "('CARDINAL',\n",
       " 'DATE',\n",
       " 'EVENT',\n",
       " 'FAC',\n",
       " 'GPE',\n",
       " 'LANGUAGE',\n",
       " 'LAW',\n",
       " 'LOC',\n",
       " 'MONEY',\n",
       " 'NORP',\n",
       " 'ORDINAL',\n",
       " 'ORG',\n",
       " 'PERCENT',\n",
       " 'PERSON',\n",
       " 'PRODUCT',\n",
       " 'QUANTITY',\n",
       " 'TIME',\n",
       " 'WORK_OF_ART')"
      ]
     },
     "execution_count": 29,
     "metadata": {},
     "output_type": "execute_result"
    }
   ],
   "source": [
    "nlp.get_pipe(\"ner\").labels"
   ]
  },
  {
   "cell_type": "code",
   "execution_count": 28,
   "id": "1502ddfb-e5a9-4621-830b-0cafe47b7ebc",
   "metadata": {
    "scrolled": true
   },
   "outputs": [
    {
     "data": {
      "text/plain": [
       "{'Achilles',\n",
       " 'Ajax',\n",
       " 'Antiope',\n",
       " 'Ariadne',\n",
       " 'Cassandra',\n",
       " 'Creon',\n",
       " 'Dia',\n",
       " 'Diana',\n",
       " 'Echeneus',\n",
       " 'Epeus',\n",
       " 'Epicaste',\n",
       " 'Eriphyle',\n",
       " 'Eurypylus',\n",
       " 'Gorgon',\n",
       " 'Hebe',\n",
       " 'Helen',\n",
       " 'Hercules',\n",
       " 'Iasus',\n",
       " 'Jove',\n",
       " 'King Alcinous',\n",
       " 'Leda',\n",
       " 'Leto',\n",
       " 'Maera',\n",
       " 'Minos',\n",
       " 'Neleus',\n",
       " 'Neoptolemus',\n",
       " 'O Phaecians',\n",
       " 'Orestes',\n",
       " 'Ossa',\n",
       " 'Panopeus',\n",
       " 'Peleus',\n",
       " 'Pelias',\n",
       " 'Periclymenus',\n",
       " 'Pero',\n",
       " 'Phaedra',\n",
       " 'Phylace',\n",
       " 'Priam',\n",
       " 'Proserpine',\n",
       " 'Pylos',\n",
       " 'Pytho',\n",
       " 'Queen',\n",
       " 'Salmoneus',\n",
       " 'Scyros',\n",
       " 'Sisyphus',\n",
       " 'Teiresias',\n",
       " 'Telamon',\n",
       " 'Telemachus',\n",
       " 'Theban Teiresias',\n",
       " 'Thetis',\n",
       " 'Troy',\n",
       " 'Tyro',\n",
       " 'Ulysses'}"
      ]
     },
     "execution_count": 28,
     "metadata": {},
     "output_type": "execute_result"
    }
   ],
   "source": [
    "set(ent.text for ent in odyssey.ents if ent.label_ == \"PERSON\")"
   ]
  },
  {
   "cell_type": "code",
   "execution_count": 33,
   "id": "e7d05b8a-1707-431a-bd54-c919f8eaca20",
   "metadata": {},
   "outputs": [
    {
     "data": {
      "text/plain": [
       "{'CARDINAL',\n",
       " 'DATE',\n",
       " 'GPE',\n",
       " 'LOC',\n",
       " 'NORP',\n",
       " 'ORDINAL',\n",
       " 'ORG',\n",
       " 'PERSON',\n",
       " 'PRODUCT',\n",
       " 'QUANTITY',\n",
       " 'TIME',\n",
       " 'WORK_OF_ART'}"
      ]
     },
     "execution_count": 33,
     "metadata": {},
     "output_type": "execute_result"
    }
   ],
   "source": [
    "in_our_doc = set()\n",
    "for ent in odyssey.ents:\n",
    "    label = ent.label_\n",
    "    if label not in in_our_doc:\n",
    "        in_our_doc.add(label)\n",
    "\n",
    "in_our_doc"
   ]
  },
  {
   "cell_type": "code",
   "execution_count": 34,
   "id": "56edaf4b-e234-4d4d-8b48-a0c47ed6ba9f",
   "metadata": {},
   "outputs": [
    {
     "data": {
      "text/plain": [
       "A kind in glass and a cousin, a spectacle and nothing strange a single hurt color and an arrangement in a system to pointing. All this and not ordinary, not unordered in not resembling. The difference is spreading."
      ]
     },
     "execution_count": 34,
     "metadata": {},
     "output_type": "execute_result"
    }
   ],
   "source": [
    "carafe"
   ]
  },
  {
   "cell_type": "code",
   "execution_count": 35,
   "id": "5fc87770-8327-4019-b165-e81872a6a6d8",
   "metadata": {},
   "outputs": [
    {
     "data": {
      "text/plain": [
       "glass"
      ]
     },
     "execution_count": 35,
     "metadata": {},
     "output_type": "execute_result"
    }
   ],
   "source": [
    "carafe[3]"
   ]
  },
  {
   "cell_type": "code",
   "execution_count": 36,
   "id": "171d608e-8dd6-4e9a-92cb-2658637f36c8",
   "metadata": {
    "scrolled": true
   },
   "outputs": [
    {
     "data": {
      "text/plain": [
       "['_',\n",
       " '__bytes__',\n",
       " '__class__',\n",
       " '__delattr__',\n",
       " '__dir__',\n",
       " '__doc__',\n",
       " '__eq__',\n",
       " '__format__',\n",
       " '__ge__',\n",
       " '__getattribute__',\n",
       " '__getstate__',\n",
       " '__gt__',\n",
       " '__hash__',\n",
       " '__init__',\n",
       " '__init_subclass__',\n",
       " '__le__',\n",
       " '__len__',\n",
       " '__lt__',\n",
       " '__ne__',\n",
       " '__new__',\n",
       " '__pyx_vtable__',\n",
       " '__reduce__',\n",
       " '__reduce_ex__',\n",
       " '__repr__',\n",
       " '__setattr__',\n",
       " '__sizeof__',\n",
       " '__str__',\n",
       " '__subclasshook__',\n",
       " '__unicode__',\n",
       " 'ancestors',\n",
       " 'check_flag',\n",
       " 'children',\n",
       " 'cluster',\n",
       " 'conjuncts',\n",
       " 'dep',\n",
       " 'dep_',\n",
       " 'doc',\n",
       " 'ent_id',\n",
       " 'ent_id_',\n",
       " 'ent_iob',\n",
       " 'ent_iob_',\n",
       " 'ent_kb_id',\n",
       " 'ent_kb_id_',\n",
       " 'ent_type',\n",
       " 'ent_type_',\n",
       " 'get_extension',\n",
       " 'has_dep',\n",
       " 'has_extension',\n",
       " 'has_head',\n",
       " 'has_morph',\n",
       " 'has_vector',\n",
       " 'head',\n",
       " 'i',\n",
       " 'idx',\n",
       " 'iob_strings',\n",
       " 'is_alpha',\n",
       " 'is_ancestor',\n",
       " 'is_ascii',\n",
       " 'is_bracket',\n",
       " 'is_currency',\n",
       " 'is_digit',\n",
       " 'is_left_punct',\n",
       " 'is_lower',\n",
       " 'is_oov',\n",
       " 'is_punct',\n",
       " 'is_quote',\n",
       " 'is_right_punct',\n",
       " 'is_sent_end',\n",
       " 'is_sent_start',\n",
       " 'is_space',\n",
       " 'is_stop',\n",
       " 'is_title',\n",
       " 'is_upper',\n",
       " 'lang',\n",
       " 'lang_',\n",
       " 'left_edge',\n",
       " 'lefts',\n",
       " 'lemma',\n",
       " 'lemma_',\n",
       " 'lex',\n",
       " 'lex_id',\n",
       " 'like_email',\n",
       " 'like_num',\n",
       " 'like_url',\n",
       " 'lower',\n",
       " 'lower_',\n",
       " 'morph',\n",
       " 'n_lefts',\n",
       " 'n_rights',\n",
       " 'nbor',\n",
       " 'norm',\n",
       " 'norm_',\n",
       " 'orth',\n",
       " 'orth_',\n",
       " 'pos',\n",
       " 'pos_',\n",
       " 'prefix',\n",
       " 'prefix_',\n",
       " 'prob',\n",
       " 'rank',\n",
       " 'remove_extension',\n",
       " 'right_edge',\n",
       " 'rights',\n",
       " 'sent',\n",
       " 'sent_start',\n",
       " 'sentiment',\n",
       " 'set_extension',\n",
       " 'set_morph',\n",
       " 'shape',\n",
       " 'shape_',\n",
       " 'similarity',\n",
       " 'subtree',\n",
       " 'suffix',\n",
       " 'suffix_',\n",
       " 'tag',\n",
       " 'tag_',\n",
       " 'tensor',\n",
       " 'text',\n",
       " 'text_with_ws',\n",
       " 'vector',\n",
       " 'vector_norm',\n",
       " 'vocab',\n",
       " 'whitespace_']"
      ]
     },
     "execution_count": 36,
     "metadata": {},
     "output_type": "execute_result"
    }
   ],
   "source": [
    "dir(carafe[3])"
   ]
  },
  {
   "cell_type": "code",
   "execution_count": 37,
   "id": "703cb9d5-0554-4283-a06a-508ad2ab77b3",
   "metadata": {},
   "outputs": [
    {
     "data": {
      "text/plain": [
       "True"
      ]
     },
     "execution_count": 37,
     "metadata": {},
     "output_type": "execute_result"
    }
   ],
   "source": [
    "carafe[3].is_alpha"
   ]
  },
  {
   "cell_type": "code",
   "execution_count": 38,
   "id": "e24d87ac-a93c-41a9-907e-41c49685709f",
   "metadata": {},
   "outputs": [
    {
     "data": {
      "text/plain": [
       "False"
      ]
     },
     "execution_count": 38,
     "metadata": {},
     "output_type": "execute_result"
    }
   ],
   "source": [
    "carafe[3].is_stop"
   ]
  },
  {
   "cell_type": "code",
   "execution_count": 39,
   "id": "89acdcca-2d33-495e-8db4-8d73a6235bb3",
   "metadata": {},
   "outputs": [
    {
     "data": {
      "text/plain": [
       "'en'"
      ]
     },
     "execution_count": 39,
     "metadata": {},
     "output_type": "execute_result"
    }
   ],
   "source": [
    "carafe[3].lang_"
   ]
  },
  {
   "cell_type": "code",
   "execution_count": 41,
   "id": "e2da4184-953e-4fc5-8f5f-8964143f4555",
   "metadata": {},
   "outputs": [
    {
     "data": {
      "text/plain": [
       "'keep'"
      ]
     },
     "execution_count": 41,
     "metadata": {},
     "output_type": "execute_result"
    }
   ],
   "source": [
    "nlp(\"kept\")[0].lemma_"
   ]
  },
  {
   "cell_type": "code",
   "execution_count": 42,
   "id": "a065e780-d81a-4ece-b875-50c3c70880f3",
   "metadata": {},
   "outputs": [
    {
     "data": {
      "text/plain": [
       "A kind in glass and a cousin, a spectacle and nothing strange a single hurt color and an arrangement in a system to pointing."
      ]
     },
     "execution_count": 42,
     "metadata": {},
     "output_type": "execute_result"
    }
   ],
   "source": [
    "carafe[3].sent"
   ]
  },
  {
   "cell_type": "code",
   "execution_count": 44,
   "id": "3fc25584-79e2-49bf-ae83-0d860a84365c",
   "metadata": {
    "scrolled": true
   },
   "outputs": [
    {
     "data": {
      "text/plain": [
       "array([-2.5555735 ,  1.1846154 , -2.269247  ,  0.3677398 ,  5.24201   ,\n",
       "       -0.1987919 ,  1.2433177 ,  4.4085402 ,  0.9550491 , -0.16181572,\n",
       "        6.9850497 ,  1.5053661 , -3.7253914 ,  1.7839051 ,  1.4726005 ,\n",
       "        1.9264268 ,  1.2448726 ,  0.445887  , -0.8267525 , -2.1162584 ,\n",
       "        1.7902328 , -0.38020015, -1.9477575 ,  0.31356767, -0.7174688 ,\n",
       "       -2.4472535 , -3.0243936 , -1.6282868 , -1.1875781 ,  1.2953837 ,\n",
       "        1.1721401 , -1.2594589 , -0.9912044 , -1.059311  , -4.1143107 ,\n",
       "        0.3692391 , -0.21478145, -0.3150489 ,  2.0574374 , -0.2255659 ,\n",
       "        0.31841078, -0.4647687 ,  0.91950166, -0.4593155 , -0.9836534 ,\n",
       "        2.4000485 ,  0.47912785, -2.4650972 , -1.4792219 ,  0.66991735,\n",
       "       -1.2323452 ,  1.3389677 ,  0.3964691 , -5.1207867 , -1.3892405 ,\n",
       "        0.3496113 ,  0.9154521 ,  1.0409203 ,  0.3290848 , -0.7906738 ,\n",
       "       -0.6259186 , -1.9025444 ,  0.1057207 , -1.3458245 ,  1.4250729 ,\n",
       "        2.036559  , -2.554052  , -5.4397173 ,  2.0374045 ,  2.0101845 ,\n",
       "       -1.0478424 , -0.7690426 , -2.8877494 ,  1.1696311 , -0.34097934,\n",
       "        1.8308157 , -3.1991286 ,  2.942065  , -2.8181176 , -1.0276068 ,\n",
       "       -5.095434  , -0.39818448,  1.3023984 ,  0.1750115 ,  3.05769   ,\n",
       "       -0.37011516, -1.6421397 , -2.4773023 ,  1.5381888 , -1.8526534 ,\n",
       "       -1.5291464 , -0.6031781 ,  2.6712482 , -4.8999877 ,  0.77659357,\n",
       "       -2.3784997 ,  1.3823844 , -1.1262654 ,  0.5329594 ,  1.2795804 ,\n",
       "        1.9359254 ,  1.8800895 ,  3.3324628 ,  3.9198806 ,  0.88809246,\n",
       "        4.7861032 ,  1.4945545 , -2.5087795 , -0.9348087 , -3.087397  ,\n",
       "        0.50373244,  2.4145346 , -2.2390494 ,  2.3302011 ,  0.48981175,\n",
       "        0.27291882, -1.3842775 ,  0.57526726,  1.4040227 , -1.2881618 ,\n",
       "       -0.23329894, -3.2332482 , -0.5598381 ,  3.1786158 , -1.7161258 ,\n",
       "       -5.1672287 , -0.08842175, -2.877693  ,  3.6612148 , -1.9076946 ,\n",
       "       -3.87185   ,  0.1591463 ,  4.6014524 , -1.7958937 , -0.30366433,\n",
       "        1.1160333 , -0.76023096, -1.7341418 ,  2.5100706 , -2.0339923 ,\n",
       "       -1.801404  , -0.04217994,  0.4233074 ,  2.3577557 ,  1.1822754 ,\n",
       "        0.9420189 , -3.0397453 ,  0.22395584,  2.0898676 ,  1.9298832 ,\n",
       "        0.45390576,  3.5253797 , -0.11172982,  2.269325  , -1.1023468 ,\n",
       "        2.083948  ,  3.644564  , -0.09483338, -1.7589713 , -1.7680707 ,\n",
       "       -2.13766   , -2.3995361 ,  0.5759872 ,  2.7150154 , -2.648877  ,\n",
       "       -2.1056154 , -4.225537  ,  1.8095242 ,  0.8100123 ,  0.32850003,\n",
       "        2.375173  , -0.05441077,  2.6867518 ,  0.5754608 ,  2.5830965 ,\n",
       "       -0.35003674,  0.38550547, -0.9694343 , -3.4490044 , -2.2048206 ,\n",
       "       -1.6401591 , -0.18200049,  0.48871747, -3.1916409 , -2.6159267 ,\n",
       "        1.1606625 , -2.852848  ,  0.0185236 , -0.72485316,  1.9308633 ,\n",
       "       -0.7163961 , -1.7277251 , -0.9293331 , -2.3701327 ,  0.8843389 ,\n",
       "        1.2377789 , -3.3133698 , -1.475286  ,  1.3886464 , -0.6327925 ,\n",
       "       -0.22998038, -1.0774642 , -0.7363596 , -3.6082594 ,  2.3785424 ,\n",
       "        0.6362749 , -4.0951986 ,  2.1197312 , -1.397548  , -1.7656147 ,\n",
       "        3.124041  ,  1.2319983 , -0.5449956 ,  2.328556  ,  1.5988994 ,\n",
       "        3.3521814 ,  0.12828699, -2.2486024 , -1.3690697 ,  0.22498976,\n",
       "       -2.578993  ,  0.7366964 , -0.9485435 ,  0.35120693, -1.406134  ,\n",
       "       -2.4795249 ,  0.3406285 ,  1.9649074 ,  3.957229  ,  0.6989987 ,\n",
       "        2.4381447 , -3.281941  ,  0.6290567 ,  1.9830035 ,  1.180141  ,\n",
       "        1.5744735 , -1.9131697 ,  1.1602281 , -1.348452  ,  0.11976792,\n",
       "       -0.31938872,  1.510813  ,  1.7957172 ,  1.6127435 , -2.7854097 ,\n",
       "        0.3615089 , -2.6425867 ,  0.2221663 , -0.7615618 ,  2.9512284 ,\n",
       "        1.5912155 , -0.50739235, -5.5931754 , -0.8300084 ,  0.56995726,\n",
       "       -2.4970016 ,  3.0654225 ,  0.8482604 , -0.22153363,  0.22813779,\n",
       "       -0.5270545 ,  5.1743135 ,  2.8674195 ,  3.8233855 ,  1.0036972 ,\n",
       "       -0.63521266, -0.67461073,  1.251241  , -3.4124167 ,  0.6285762 ,\n",
       "        2.6354294 , -0.23635256,  0.09396723, -1.3149881 ,  0.7035438 ,\n",
       "       -0.620634  ,  3.310539  , -0.5892926 , -1.1959312 ,  2.498321  ,\n",
       "        0.9916285 , -0.56154245,  0.26201338,  1.5711734 ,  3.940262  ,\n",
       "       -0.8335847 ,  0.23985626,  0.28853047, -1.4413251 ,  1.7303032 ,\n",
       "       -0.66055596,  0.33179358,  0.6119258 ,  0.02248182, -0.7173607 ,\n",
       "        2.2634323 ,  0.99727327, -0.6263683 , -2.6335618 ,  0.7514665 ],\n",
       "      dtype=float32)"
      ]
     },
     "execution_count": 44,
     "metadata": {},
     "output_type": "execute_result"
    }
   ],
   "source": [
    "carafe.vector"
   ]
  },
  {
   "cell_type": "code",
   "execution_count": 47,
   "id": "b9312d91-75c6-4343-99d8-42060df45215",
   "metadata": {},
   "outputs": [
    {
     "data": {
      "text/plain": [
       "-4.6198"
      ]
     },
     "execution_count": 47,
     "metadata": {},
     "output_type": "execute_result"
    }
   ],
   "source": [
    "carafe[3].vector[1]"
   ]
  },
  {
   "cell_type": "code",
   "execution_count": 46,
   "id": "f78d8ab3-ad04-4af2-b6c8-23eb7790a5c8",
   "metadata": {},
   "outputs": [
    {
     "data": {
      "text/plain": [
       "300"
      ]
     },
     "execution_count": 46,
     "metadata": {},
     "output_type": "execute_result"
    }
   ],
   "source": [
    "len(carafe[3].vector)"
   ]
  },
  {
   "cell_type": "code",
   "execution_count": 49,
   "id": "63be4aec-979e-496e-8387-645df09e95a6",
   "metadata": {
    "scrolled": true
   },
   "outputs": [
    {
     "name": "stdout",
     "output_type": "stream",
     "text": [
      "Text         Punctuation    Is URL\n",
      "-----------  -------------  --------\n",
      "A            False          False\n",
      "kind         False          False\n",
      "in           False          False\n",
      "glass        False          False\n",
      "and          False          False\n",
      "a            False          False\n",
      "cousin       False          False\n",
      ",            True           False\n",
      "a            False          False\n",
      "spectacle    False          False\n",
      "and          False          False\n",
      "nothing      False          False\n",
      "strange      False          False\n",
      "a            False          False\n",
      "single       False          False\n",
      "hurt         False          False\n",
      "color        False          False\n",
      "and          False          False\n",
      "an           False          False\n",
      "arrangement  False          False\n",
      "in           False          False\n",
      "a            False          False\n",
      "system       False          False\n",
      "to           False          False\n",
      "pointing     False          False\n",
      ".            True           False\n",
      "All          False          False\n",
      "this         False          False\n",
      "and          False          False\n",
      "not          False          False\n",
      "ordinary     False          False\n",
      ",            True           False\n",
      "not          False          False\n",
      "unordered    False          False\n",
      "in           False          False\n",
      "not          False          False\n",
      "resembling   False          False\n",
      ".            True           False\n",
      "The          False          False\n",
      "difference   False          False\n",
      "is           False          False\n",
      "spreading    False          False\n",
      ".            True           False\n"
     ]
    }
   ],
   "source": [
    "attributes = [[tok.text, tok.is_punct, tok.like_url] for tok in carafe]\n",
    "print(tabulate(attributes, [\"Text\", \"Punctuation\", \"Is URL\"]))"
   ]
  },
  {
   "cell_type": "code",
   "execution_count": 50,
   "id": "11f81cca-12ed-4ab6-9e28-32b1a908cff0",
   "metadata": {
    "scrolled": true
   },
   "outputs": [
    {
     "name": "stdout",
     "output_type": "stream",
     "text": [
      "Token        Tag\n",
      "-----------  -----\n",
      "A            DET\n",
      "kind         NOUN\n",
      "in           ADP\n",
      "glass        NOUN\n",
      "and          CCONJ\n",
      "a            DET\n",
      "cousin       NOUN\n",
      ",            PUNCT\n",
      "a            DET\n",
      "spectacle    NOUN\n",
      "and          CCONJ\n",
      "nothing      PRON\n",
      "strange      ADJ\n",
      "a            DET\n",
      "single       ADJ\n",
      "hurt         NOUN\n",
      "color        NOUN\n",
      "and          CCONJ\n",
      "an           DET\n",
      "arrangement  NOUN\n",
      "in           ADP\n",
      "a            DET\n",
      "system       NOUN\n",
      "to           ADP\n",
      "pointing     VERB\n",
      ".            PUNCT\n",
      "All          DET\n",
      "this         PRON\n",
      "and          CCONJ\n",
      "not          PART\n",
      "ordinary     ADJ\n",
      ",            PUNCT\n",
      "not          PART\n",
      "unordered    ADJ\n",
      "in           ADP\n",
      "not          PART\n",
      "resembling   VERB\n",
      ".            PUNCT\n",
      "The          DET\n",
      "difference   NOUN\n",
      "is           AUX\n",
      "spreading    VERB\n",
      ".            PUNCT\n"
     ]
    }
   ],
   "source": [
    "pos_tags = [[tok.text, tok.pos_] for tok in carafe]\n",
    "print(tabulate(pos_tags, [\"Token\", \"Tag\"]))"
   ]
  },
  {
   "cell_type": "code",
   "execution_count": 51,
   "id": "4afe3502-5df3-4128-8cc3-f1e538e4c280",
   "metadata": {
    "scrolled": true
   },
   "outputs": [
    {
     "name": "stdout",
     "output_type": "stream",
     "text": [
      "Token        Tag\n",
      "-----------  -----\n",
      "A            DT\n",
      "kind         NN\n",
      "in           IN\n",
      "glass        NN\n",
      "and          CC\n",
      "a            DT\n",
      "cousin       NN\n",
      ",            ,\n",
      "a            DT\n",
      "spectacle    NN\n",
      "and          CC\n",
      "nothing      NN\n",
      "strange      JJ\n",
      "a            DT\n",
      "single       JJ\n",
      "hurt         NN\n",
      "color        NN\n",
      "and          CC\n",
      "an           DT\n",
      "arrangement  NN\n",
      "in           IN\n",
      "a            DT\n",
      "system       NN\n",
      "to           IN\n",
      "pointing     VBG\n",
      ".            .\n",
      "All          PDT\n",
      "this         DT\n",
      "and          CC\n",
      "not          RB\n",
      "ordinary     JJ\n",
      ",            ,\n",
      "not          RB\n",
      "unordered    JJ\n",
      "in           IN\n",
      "not          RB\n",
      "resembling   VBG\n",
      ".            .\n",
      "The          DT\n",
      "difference   NN\n",
      "is           VBZ\n",
      "spreading    VBG\n",
      ".            .\n"
     ]
    }
   ],
   "source": [
    "pos_tags = [[tok.text, tok.tag_] for tok in carafe]\n",
    "print(tabulate(pos_tags, [\"Token\", \"Tag\"]))"
   ]
  },
  {
   "cell_type": "code",
   "execution_count": 53,
   "id": "33e267e0-3ea7-476a-941b-362c7b34bb73",
   "metadata": {},
   "outputs": [
    {
     "data": {
      "text/html": [
       "<span class=\"tex2jax_ignore\"><svg xmlns=\"http://www.w3.org/2000/svg\" xmlns:xlink=\"http://www.w3.org/1999/xlink\" xml:lang=\"en\" id=\"8ef75b72afc446c0bc3686b61ba2ce78-0\" class=\"displacy\" width=\"1800\" height=\"399.5\" direction=\"ltr\" style=\"max-width: none; height: 399.5px; color: #000000; background: #ffffff; font-family: Arial; direction: ltr\">\n",
       "<text class=\"displacy-token\" fill=\"currentColor\" text-anchor=\"middle\" y=\"309.5\">\n",
       "    <tspan class=\"displacy-word\" fill=\"currentColor\" x=\"50\">All</tspan>\n",
       "    <tspan class=\"displacy-tag\" dy=\"2em\" fill=\"currentColor\" x=\"50\">DET</tspan>\n",
       "</text>\n",
       "\n",
       "<text class=\"displacy-token\" fill=\"currentColor\" text-anchor=\"middle\" y=\"309.5\">\n",
       "    <tspan class=\"displacy-word\" fill=\"currentColor\" x=\"225\">this</tspan>\n",
       "    <tspan class=\"displacy-tag\" dy=\"2em\" fill=\"currentColor\" x=\"225\">PRON</tspan>\n",
       "</text>\n",
       "\n",
       "<text class=\"displacy-token\" fill=\"currentColor\" text-anchor=\"middle\" y=\"309.5\">\n",
       "    <tspan class=\"displacy-word\" fill=\"currentColor\" x=\"400\">and</tspan>\n",
       "    <tspan class=\"displacy-tag\" dy=\"2em\" fill=\"currentColor\" x=\"400\">CCONJ</tspan>\n",
       "</text>\n",
       "\n",
       "<text class=\"displacy-token\" fill=\"currentColor\" text-anchor=\"middle\" y=\"309.5\">\n",
       "    <tspan class=\"displacy-word\" fill=\"currentColor\" x=\"575\">not</tspan>\n",
       "    <tspan class=\"displacy-tag\" dy=\"2em\" fill=\"currentColor\" x=\"575\">PART</tspan>\n",
       "</text>\n",
       "\n",
       "<text class=\"displacy-token\" fill=\"currentColor\" text-anchor=\"middle\" y=\"309.5\">\n",
       "    <tspan class=\"displacy-word\" fill=\"currentColor\" x=\"750\">ordinary,</tspan>\n",
       "    <tspan class=\"displacy-tag\" dy=\"2em\" fill=\"currentColor\" x=\"750\">ADJ</tspan>\n",
       "</text>\n",
       "\n",
       "<text class=\"displacy-token\" fill=\"currentColor\" text-anchor=\"middle\" y=\"309.5\">\n",
       "    <tspan class=\"displacy-word\" fill=\"currentColor\" x=\"925\">not</tspan>\n",
       "    <tspan class=\"displacy-tag\" dy=\"2em\" fill=\"currentColor\" x=\"925\">PART</tspan>\n",
       "</text>\n",
       "\n",
       "<text class=\"displacy-token\" fill=\"currentColor\" text-anchor=\"middle\" y=\"309.5\">\n",
       "    <tspan class=\"displacy-word\" fill=\"currentColor\" x=\"1100\">unordered</tspan>\n",
       "    <tspan class=\"displacy-tag\" dy=\"2em\" fill=\"currentColor\" x=\"1100\">ADJ</tspan>\n",
       "</text>\n",
       "\n",
       "<text class=\"displacy-token\" fill=\"currentColor\" text-anchor=\"middle\" y=\"309.5\">\n",
       "    <tspan class=\"displacy-word\" fill=\"currentColor\" x=\"1275\">in</tspan>\n",
       "    <tspan class=\"displacy-tag\" dy=\"2em\" fill=\"currentColor\" x=\"1275\">ADP</tspan>\n",
       "</text>\n",
       "\n",
       "<text class=\"displacy-token\" fill=\"currentColor\" text-anchor=\"middle\" y=\"309.5\">\n",
       "    <tspan class=\"displacy-word\" fill=\"currentColor\" x=\"1450\">not</tspan>\n",
       "    <tspan class=\"displacy-tag\" dy=\"2em\" fill=\"currentColor\" x=\"1450\">PART</tspan>\n",
       "</text>\n",
       "\n",
       "<text class=\"displacy-token\" fill=\"currentColor\" text-anchor=\"middle\" y=\"309.5\">\n",
       "    <tspan class=\"displacy-word\" fill=\"currentColor\" x=\"1625\">resembling.</tspan>\n",
       "    <tspan class=\"displacy-tag\" dy=\"2em\" fill=\"currentColor\" x=\"1625\">VERB</tspan>\n",
       "</text>\n",
       "\n",
       "<g class=\"displacy-arrow\">\n",
       "    <path class=\"displacy-arc\" id=\"arrow-8ef75b72afc446c0bc3686b61ba2ce78-0-0\" stroke-width=\"2px\" d=\"M70,264.5 C70,177.0 215.0,177.0 215.0,264.5\" fill=\"none\" stroke=\"currentColor\"/>\n",
       "    <text dy=\"1.25em\" style=\"font-size: 0.8em; letter-spacing: 1px\">\n",
       "        <textPath xlink:href=\"#arrow-8ef75b72afc446c0bc3686b61ba2ce78-0-0\" class=\"displacy-label\" startOffset=\"50%\" side=\"left\" fill=\"currentColor\" text-anchor=\"middle\">predet</textPath>\n",
       "    </text>\n",
       "    <path class=\"displacy-arrowhead\" d=\"M70,266.5 L62,254.5 78,254.5\" fill=\"currentColor\"/>\n",
       "</g>\n",
       "\n",
       "<g class=\"displacy-arrow\">\n",
       "    <path class=\"displacy-arc\" id=\"arrow-8ef75b72afc446c0bc3686b61ba2ce78-0-1\" stroke-width=\"2px\" d=\"M245,264.5 C245,2.0 1100.0,2.0 1100.0,264.5\" fill=\"none\" stroke=\"currentColor\"/>\n",
       "    <text dy=\"1.25em\" style=\"font-size: 0.8em; letter-spacing: 1px\">\n",
       "        <textPath xlink:href=\"#arrow-8ef75b72afc446c0bc3686b61ba2ce78-0-1\" class=\"displacy-label\" startOffset=\"50%\" side=\"left\" fill=\"currentColor\" text-anchor=\"middle\">nsubj</textPath>\n",
       "    </text>\n",
       "    <path class=\"displacy-arrowhead\" d=\"M245,266.5 L237,254.5 253,254.5\" fill=\"currentColor\"/>\n",
       "</g>\n",
       "\n",
       "<g class=\"displacy-arrow\">\n",
       "    <path class=\"displacy-arc\" id=\"arrow-8ef75b72afc446c0bc3686b61ba2ce78-0-2\" stroke-width=\"2px\" d=\"M245,264.5 C245,177.0 390.0,177.0 390.0,264.5\" fill=\"none\" stroke=\"currentColor\"/>\n",
       "    <text dy=\"1.25em\" style=\"font-size: 0.8em; letter-spacing: 1px\">\n",
       "        <textPath xlink:href=\"#arrow-8ef75b72afc446c0bc3686b61ba2ce78-0-2\" class=\"displacy-label\" startOffset=\"50%\" side=\"left\" fill=\"currentColor\" text-anchor=\"middle\">cc</textPath>\n",
       "    </text>\n",
       "    <path class=\"displacy-arrowhead\" d=\"M390.0,266.5 L398.0,254.5 382.0,254.5\" fill=\"currentColor\"/>\n",
       "</g>\n",
       "\n",
       "<g class=\"displacy-arrow\">\n",
       "    <path class=\"displacy-arc\" id=\"arrow-8ef75b72afc446c0bc3686b61ba2ce78-0-3\" stroke-width=\"2px\" d=\"M595,264.5 C595,177.0 740.0,177.0 740.0,264.5\" fill=\"none\" stroke=\"currentColor\"/>\n",
       "    <text dy=\"1.25em\" style=\"font-size: 0.8em; letter-spacing: 1px\">\n",
       "        <textPath xlink:href=\"#arrow-8ef75b72afc446c0bc3686b61ba2ce78-0-3\" class=\"displacy-label\" startOffset=\"50%\" side=\"left\" fill=\"currentColor\" text-anchor=\"middle\">neg</textPath>\n",
       "    </text>\n",
       "    <path class=\"displacy-arrowhead\" d=\"M595,266.5 L587,254.5 603,254.5\" fill=\"currentColor\"/>\n",
       "</g>\n",
       "\n",
       "<g class=\"displacy-arrow\">\n",
       "    <path class=\"displacy-arc\" id=\"arrow-8ef75b72afc446c0bc3686b61ba2ce78-0-4\" stroke-width=\"2px\" d=\"M245,264.5 C245,89.5 745.0,89.5 745.0,264.5\" fill=\"none\" stroke=\"currentColor\"/>\n",
       "    <text dy=\"1.25em\" style=\"font-size: 0.8em; letter-spacing: 1px\">\n",
       "        <textPath xlink:href=\"#arrow-8ef75b72afc446c0bc3686b61ba2ce78-0-4\" class=\"displacy-label\" startOffset=\"50%\" side=\"left\" fill=\"currentColor\" text-anchor=\"middle\">conj</textPath>\n",
       "    </text>\n",
       "    <path class=\"displacy-arrowhead\" d=\"M745.0,266.5 L753.0,254.5 737.0,254.5\" fill=\"currentColor\"/>\n",
       "</g>\n",
       "\n",
       "<g class=\"displacy-arrow\">\n",
       "    <path class=\"displacy-arc\" id=\"arrow-8ef75b72afc446c0bc3686b61ba2ce78-0-5\" stroke-width=\"2px\" d=\"M945,264.5 C945,177.0 1090.0,177.0 1090.0,264.5\" fill=\"none\" stroke=\"currentColor\"/>\n",
       "    <text dy=\"1.25em\" style=\"font-size: 0.8em; letter-spacing: 1px\">\n",
       "        <textPath xlink:href=\"#arrow-8ef75b72afc446c0bc3686b61ba2ce78-0-5\" class=\"displacy-label\" startOffset=\"50%\" side=\"left\" fill=\"currentColor\" text-anchor=\"middle\">neg</textPath>\n",
       "    </text>\n",
       "    <path class=\"displacy-arrowhead\" d=\"M945,266.5 L937,254.5 953,254.5\" fill=\"currentColor\"/>\n",
       "</g>\n",
       "\n",
       "<g class=\"displacy-arrow\">\n",
       "    <path class=\"displacy-arc\" id=\"arrow-8ef75b72afc446c0bc3686b61ba2ce78-0-6\" stroke-width=\"2px\" d=\"M1120,264.5 C1120,177.0 1265.0,177.0 1265.0,264.5\" fill=\"none\" stroke=\"currentColor\"/>\n",
       "    <text dy=\"1.25em\" style=\"font-size: 0.8em; letter-spacing: 1px\">\n",
       "        <textPath xlink:href=\"#arrow-8ef75b72afc446c0bc3686b61ba2ce78-0-6\" class=\"displacy-label\" startOffset=\"50%\" side=\"left\" fill=\"currentColor\" text-anchor=\"middle\">prep</textPath>\n",
       "    </text>\n",
       "    <path class=\"displacy-arrowhead\" d=\"M1265.0,266.5 L1273.0,254.5 1257.0,254.5\" fill=\"currentColor\"/>\n",
       "</g>\n",
       "\n",
       "<g class=\"displacy-arrow\">\n",
       "    <path class=\"displacy-arc\" id=\"arrow-8ef75b72afc446c0bc3686b61ba2ce78-0-7\" stroke-width=\"2px\" d=\"M1470,264.5 C1470,177.0 1615.0,177.0 1615.0,264.5\" fill=\"none\" stroke=\"currentColor\"/>\n",
       "    <text dy=\"1.25em\" style=\"font-size: 0.8em; letter-spacing: 1px\">\n",
       "        <textPath xlink:href=\"#arrow-8ef75b72afc446c0bc3686b61ba2ce78-0-7\" class=\"displacy-label\" startOffset=\"50%\" side=\"left\" fill=\"currentColor\" text-anchor=\"middle\">neg</textPath>\n",
       "    </text>\n",
       "    <path class=\"displacy-arrowhead\" d=\"M1470,266.5 L1462,254.5 1478,254.5\" fill=\"currentColor\"/>\n",
       "</g>\n",
       "\n",
       "<g class=\"displacy-arrow\">\n",
       "    <path class=\"displacy-arc\" id=\"arrow-8ef75b72afc446c0bc3686b61ba2ce78-0-8\" stroke-width=\"2px\" d=\"M1295,264.5 C1295,89.5 1620.0,89.5 1620.0,264.5\" fill=\"none\" stroke=\"currentColor\"/>\n",
       "    <text dy=\"1.25em\" style=\"font-size: 0.8em; letter-spacing: 1px\">\n",
       "        <textPath xlink:href=\"#arrow-8ef75b72afc446c0bc3686b61ba2ce78-0-8\" class=\"displacy-label\" startOffset=\"50%\" side=\"left\" fill=\"currentColor\" text-anchor=\"middle\">pcomp</textPath>\n",
       "    </text>\n",
       "    <path class=\"displacy-arrowhead\" d=\"M1620.0,266.5 L1628.0,254.5 1612.0,254.5\" fill=\"currentColor\"/>\n",
       "</g>\n",
       "</svg></span>"
      ],
      "text/plain": [
       "<IPython.core.display.HTML object>"
      ]
     },
     "metadata": {},
     "output_type": "display_data"
    }
   ],
   "source": [
    "to_render = list(carafe.sents)[1]\n",
    "spacy.displacy.render(to_render, style = \"dep\")"
   ]
  },
  {
   "cell_type": "code",
   "execution_count": 57,
   "id": "4cc068ce-62c1-445e-b80a-b3270e64be7b",
   "metadata": {},
   "outputs": [
    {
     "name": "stdout",
     "output_type": "stream",
     "text": [
      "Token: A \t\tTree: A\n",
      "Token: kind \t\tTree: A kind in glass and a cousin , a spectacle and nothing\n",
      "Token: in \t\tTree: in glass\n",
      "Token: glass \t\tTree: glass\n",
      "Token: and \t\tTree: and\n",
      "Token: a \t\tTree: a\n",
      "Token: cousin \t\tTree: a cousin , a spectacle and nothing\n",
      "Token: , \t\tTree: ,\n",
      "Token: a \t\tTree: a\n",
      "Token: spectacle \t\tTree: a spectacle and nothing\n",
      "Token: and \t\tTree: and\n",
      "Token: nothing \t\tTree: nothing\n",
      "Token: strange \t\tTree: A kind in glass and a cousin , a spectacle and nothing strange a single hurt color and an arrangement in a system to pointing .\n",
      "Token: a \t\tTree: a\n",
      "Token: single \t\tTree: single\n",
      "Token: hurt \t\tTree: hurt\n",
      "Token: color \t\tTree: a single hurt color and an arrangement in a system to pointing\n",
      "Token: and \t\tTree: and\n",
      "Token: an \t\tTree: an\n",
      "Token: arrangement \t\tTree: an arrangement in a system to pointing\n",
      "Token: in \t\tTree: in a system\n",
      "Token: a \t\tTree: a\n",
      "Token: system \t\tTree: a system\n",
      "Token: to \t\tTree: to pointing\n",
      "Token: pointing \t\tTree: pointing\n",
      "Token: . \t\tTree: .\n",
      "Token: All \t\tTree: All\n",
      "Token: this \t\tTree: All this and not ordinary\n",
      "Token: and \t\tTree: and\n",
      "Token: not \t\tTree: not\n",
      "Token: ordinary \t\tTree: not ordinary\n",
      "Token: , \t\tTree: ,\n",
      "Token: not \t\tTree: not\n",
      "Token: unordered \t\tTree: All this and not ordinary , not unordered in not resembling .\n",
      "Token: in \t\tTree: in not resembling\n",
      "Token: not \t\tTree: not\n",
      "Token: resembling \t\tTree: not resembling\n",
      "Token: . \t\tTree: .\n",
      "Token: The \t\tTree: The\n",
      "Token: difference \t\tTree: The difference\n",
      "Token: is \t\tTree: is\n",
      "Token: spreading \t\tTree: The difference is spreading .\n",
      "Token: . \t\tTree: .\n"
     ]
    }
   ],
   "source": [
    "for sentence in carafe.sents:\n",
    "    for token in sentence:\n",
    "        subtree = list(token.subtree)\n",
    "        print(\"Token:\", token.text, \"\\t\\tTree:\", \" \".join(tok.text for tok in subtree)) "
   ]
  },
  {
   "cell_type": "code",
   "execution_count": 59,
   "id": "fc501c2d-7378-4040-b900-847b12962300",
   "metadata": {},
   "outputs": [
    {
     "name": "stdout",
     "output_type": "stream",
     "text": [
      "Token: A \t\tHead: kind\n",
      "Token: kind \t\tHead: strange\n",
      "Token: in \t\tHead: kind\n",
      "Token: glass \t\tHead: in\n",
      "Token: and \t\tHead: kind\n",
      "Token: a \t\tHead: cousin\n",
      "Token: cousin \t\tHead: kind\n",
      "Token: , \t\tHead: cousin\n",
      "Token: a \t\tHead: spectacle\n",
      "Token: spectacle \t\tHead: cousin\n",
      "Token: and \t\tHead: spectacle\n",
      "Token: nothing \t\tHead: spectacle\n",
      "Token: strange \t\tHead: strange\n",
      "Token: a \t\tHead: color\n",
      "Token: single \t\tHead: color\n",
      "Token: hurt \t\tHead: color\n",
      "Token: color \t\tHead: strange\n",
      "Token: and \t\tHead: color\n",
      "Token: an \t\tHead: arrangement\n",
      "Token: arrangement \t\tHead: color\n",
      "Token: in \t\tHead: arrangement\n",
      "Token: a \t\tHead: system\n",
      "Token: system \t\tHead: in\n",
      "Token: to \t\tHead: arrangement\n",
      "Token: pointing \t\tHead: to\n",
      "Token: . \t\tHead: strange\n",
      "Token: All \t\tHead: this\n",
      "Token: this \t\tHead: unordered\n",
      "Token: and \t\tHead: this\n",
      "Token: not \t\tHead: ordinary\n",
      "Token: ordinary \t\tHead: this\n",
      "Token: , \t\tHead: unordered\n",
      "Token: not \t\tHead: unordered\n",
      "Token: unordered \t\tHead: unordered\n",
      "Token: in \t\tHead: unordered\n",
      "Token: not \t\tHead: resembling\n",
      "Token: resembling \t\tHead: in\n",
      "Token: . \t\tHead: unordered\n",
      "Token: The \t\tHead: difference\n",
      "Token: difference \t\tHead: spreading\n",
      "Token: is \t\tHead: spreading\n",
      "Token: spreading \t\tHead: spreading\n",
      "Token: . \t\tHead: spreading\n"
     ]
    }
   ],
   "source": [
    "for sentence in carafe.sents:\n",
    "    for token in sentence:\n",
    "        print(\"Token:\", token.text, \"\\t\\tHead:\", token.head.text) "
   ]
  },
  {
   "cell_type": "code",
   "execution_count": 64,
   "id": "df81e2fd-49ac-4668-9fdb-030ecaffefb8",
   "metadata": {},
   "outputs": [],
   "source": [
    "sentence = odyssey[2246:2260]\n",
    "dependencies = []\n",
    "for tok in sentence:\n",
    "    row = [tok.text, tok.lemma_, tok.dep_, spacy.explain(tok.dep_), tok.head.text]\n",
    "    dependencies.append(row)"
   ]
  },
  {
   "cell_type": "code",
   "execution_count": 65,
   "id": "caeb8722-a76b-4b74-967b-f6378010da34",
   "metadata": {},
   "outputs": [
    {
     "name": "stdout",
     "output_type": "stream",
     "text": [
      "Text       Lemma    Dep     Exp                        Head\n",
      "---------  -------  ------  -------------------------  ---------\n",
      "Then       then     advmod  adverbial modifier         tried\n",
      "I          I        nsubj   nominal subject            tried\n",
      "tried      try      ROOT    root                       tried\n",
      "to         to       aux     auxiliary                  find\n",
      "find       find     xcomp   open clausal complement    tried\n",
      "some       some     det     determiner                 way\n",
      "way        way      dobj    direct object              find\n",
      "of         of       prep    prepositional modifier     way\n",
      "embracing  embrace  pcomp   complement of preposition  of\n",
      "my         my       poss    possession modifier        mother\n",
      "mother     mother   poss    possession modifier        ghost\n",
      "'s         's       case    case marking               mother\n",
      "ghost      ghost    dobj    direct object              embracing\n",
      ".          .        punct   punctuation                tried\n"
     ]
    }
   ],
   "source": [
    "print(tabulate(dependencies, [\"Text\", \"Lemma\", \"Dep\", \"Exp\", \"Head\"]))"
   ]
  },
  {
   "cell_type": "code",
   "execution_count": 74,
   "id": "273f9568-43e9-4c32-b371-26cccbffceb2",
   "metadata": {},
   "outputs": [],
   "source": [
    "subj = []\n",
    "for token in odyssey:\n",
    "    if token.dep_ in ('nsubj', 'nsubjpass') and token.pos_ in ('NOUN', 'PROPN'):\n",
    "        subtree = \" \".join(t.text for t in token.subtree)\n",
    "        subj.append([token.text, token.head.text, token.head.lemma_, subtree])"
   ]
  },
  {
   "cell_type": "code",
   "execution_count": 75,
   "id": "312c1cfb-ad0b-4d22-8a2e-914548d1331a",
   "metadata": {
    "scrolled": true
   },
   "outputs": [
    {
     "name": "stdout",
     "output_type": "stream",
     "text": [
      "Subject       Head          Head lemma    Subtree\n",
      "------------  ------------  ------------  -----------------------------------------------------------------\n",
      "Circe         sent          send          Circe , that great and cunning goddess ,\n",
      "wind          headed        head          the wind and helmsman\n",
      "sails         were          be            her sails\n",
      "sun           went          go            the sun\n",
      "darkness      was           be            darkness\n",
      "rays          pierce        pierce        the rays of the sun\n",
      "wretches      live          live          the poor wretches\n",
      "Circe         told          tell          Circe\n",
      "Eurylochus    held          hold          Eurylochus\n",
      "Teiresias     have          have          Teiresias\n",
      "blood         run           run           the blood\n",
      "ghosts        came          come          the ghosts\n",
      "men           worn          wear          old men\n",
      "armour        smirched      smirch        their armour\n",
      "ghosts        come          come          the poor feckless ghosts\n",
      "Teiresias     answered      answer        Teiresias\n",
      "ghost         was           be            The first ghost ' that came\n",
      "Elpenor       said          say           Elpenor\n",
      "ghost         saying        say           the ghost of my comrade\n",
      "ghost         came          come          the ghost of my dead mother Anticlea , daughter to Autolycus\n",
      "ghost         came          come          the ghost of Theban Teiresias , with his golden sceptre\n",
      "man           left          leave         poor man\n",
      "heaven        make          make          heaven\n",
      "ship          reaches       reach         your ship\n",
      "hardship      reach         reach         much hardship\n",
      "people        heard         hear          the people\n",
      "wayfarer      meet          meet          A wayfarer\n",
      "death         come          come          death\n",
      "life          ebb           ebb           your life\n",
      "people        bless         bless         your people\n",
      "ghost         close         close         my poor mother 's ghost\n",
      "taste         talk          talk          taste of the blood\n",
      "ghost         went          go            the ghost of Teiresias\n",
      "prophecyings  spoken        speak         his prophecyings\n",
      "mother        came          come          my mother\n",
      "man           cross         cross         no man\n",
      "heaven        vouchsafe     vouchsafe     heaven\n",
      "wife          intends       intend        my wife\n",
      "mother        answered      answer        My mother\n",
      "wife          remains       remain        Your wife\n",
      "one           got           get           No one\n",
      "Telemachus    holds         hold          Telemachus\n",
      "lands         undisturbed   undisturbed   your lands\n",
      "one           invites       invite        every one\n",
      "father        remains       remain        your father\n",
      "weather       comes         come          the warm weather\n",
      "heaven        take          take          heaven\n",
      "Proserpine    want          want          Proserpine\n",
      "people        are           be            all people\n",
      "sinews        hold          hold          The sinews\n",
      "life          left          leave         life\n",
      "soul          flits         flit          the soul\n",
      "Proserpine    sent          send          anon Proserpine\n",
      "one           told          tell          each one as I questioned her\n",
      "wave          arched        arch          a huge blue wave\n",
      "god           accomplished  accomplish    the god\n",
      "embraces      are           be            the embraces of the gods\n",
      "Pelias        was           be            Pelias\n",
      "rest          were          be            The rest of her children\n",
      "gods          proclaimed    proclaim      the gods\n",
      "gods          borne         bear          the gods\n",
      "Epicaste      went          go            Epicaste\n",
      "spirits       haunted       haunt         the avenging spirits\n",
      "Chloris       given         give          Chloris , whom Neleus married for her beauty ,\n",
      "Neleus        married       marry         Neleus\n",
      "woman         round         round         marvellously lovely woman Pero , who was wooed by all the country\n",
      "Neleus        give          give          Neleus\n",
      "man           was           be            The only man who would undertake to raid\n",
      "will          was           be            the will of heaven\n",
      "rangers       caught        catch         the rangers of the cattle\n",
      "year          passed        pass          a full year\n",
      "season        came          come          the same season\n",
      "Iphicles      set           set           Iphicles\n",
      "heroes        lying         lie           Both these heroes\n",
      "Orion         excepted      except        Orion\n",
      "Apollo        killed        kill          Apollo , son of Leto ,\n",
      "Theseus       carrying      carry         Theseus\n",
      "Diana         killed        kill          Diana\n",
      "Bacchus       said          say           Bacchus\n",
      "guests        sat           sit           the guests\n",
      "Arete         said          say           Arete\n",
      "friends       spoke         speak         My friends\n",
      "queen         said          say           our august queen\n",
      "decision      rests         rest          the decision\n",
      "thing         done          do            The thing\n",
      "guest         is            be            Our guest\n",
      "Ulysses       answered      answer        Ulysses\n",
      "Ulysses       replied       reply         \" Ulysses , \"\n",
      "evenings      are           be            The evenings\n",
      "time-         go            go            bed time-\n",
      "Ulysses       answered      answer        Ulysses\n",
      "Proserpine    dismissed     dismiss       Proserpine\n",
      "ghost         came          come          the ghost of Agamemnon son of Atreus\n",
      "Neptune       raise         raise         Neptune\n",
      "enemies       make          make          your enemies\n",
      "foes          despatch      despatch      my foes\n",
      "Aegisthus     were          be            Aegisthus and my wicked wife\n",
      "comrades      slain         slay          my comrades\n",
      "daughter      scream        scream        Priam 's daughter Cassandra\n",
      "Clytemnestra  killed        kill          Clytemnestra\n",
      "crime         brought       bring         her abominable crime\n",
      "Jove          hated         hate          Jove\n",
      "Clytemnestra  hatched       hatch         Clytemnestra\n",
      "wife          is            be            your wife , Ulysses ,\n",
      "Penelope      is            be            Penelope\n",
      "child         grown         grow          This child\n",
      "wife          allow         allow         my wicked wife\n",
      "son           is            be            your son\n",
      "ghost         came          come          the ghost of Achilles\n",
      "descendant    knew          know          The fleet descendant of Aeacus\n",
      "one           was           be            no one\n",
      "limbs         fail          fail          his limbs\n",
      "judgement     was           be            his judgement\n",
      "Nestor        were          be            Nestor and I\n",
      "man           kill          kill          Many a man\n",
      "others        fell          fall          many others also of the Ceteians\n",
      "Epeus         made          make          Epeus\n",
      "leaders       drying        dry           all the other leaders and chief men among the Danaans\n",
      "rage          is            be            the rage of Mars\n",
      "ghost         strode        stride        the ghost of Achilles\n",
      "ghosts        stood         stand         The ghosts of other dead men\n",
      "Thetis        offered       offer         Thetis\n",
      "prisoners     were          be            the Trojan prisoners and Minerva\n",
      "judgement     rankle        rankle        the judgement about that hateful armour\n",
      "blame         laid          lay           the blame\n",
      "Jove          bore          bear          Jove\n",
      "ghosts        gathered      gather        the ghosts\n",
      "Tityus        stretched     stretch       Tityus son of Gaia\n",
      "vultures      digging       dig           Two vultures on either side of him\n",
      "creature      stooped       stoop         the poor creature\n",
      "creature      stretched     stretch       the poor creature\n",
      "wind          tossed        toss          the wind\n",
      "weight        be            be            its weight\n",
      "stone         come          come          the pitiless stone\n",
      "sweat         ran           run           the sweat\n",
      "steam         rose          rise          the steam\n",
      "ghosts        screaming     scream        The ghosts\n",
      "man           do            do            The man who made that belt\n",
      "Hercules      knew          know          Hercules\n",
      "Ulysses       are           be            my poor Ulysses , noble son of Laertes ,\n",
      "Mercury       helped        help          Mercury and Minerva\n",
      "thousands     came          come          many thousands of ghosts\n",
      "Proserpine    send          send          Proserpine\n",
      "ship          went          go            the ship\n",
      "wind          sprang        spring        a fair wind\n"
     ]
    }
   ],
   "source": [
    "print(tabulate(subj, [\"Subject\", \"Head\", \"Head lemma\", \"Subtree\"]))"
   ]
  },
  {
   "cell_type": "code",
   "execution_count": 76,
   "id": "7f06e86f-6ba5-4c77-b9e0-1c0fecf80c77",
   "metadata": {},
   "outputs": [],
   "source": [
    "subject_heads = defaultdict(list)\n",
    "for item in subj:\n",
    "    subject, head, *_ = item\n",
    "    subject_heads[subject].append(head)"
   ]
  },
  {
   "cell_type": "code",
   "execution_count": 78,
   "id": "6c61af2e-004e-4d42-a2a1-b73e6b4f5510",
   "metadata": {
    "scrolled": true
   },
   "outputs": [],
   "source": [
    "associations = []\n",
    "for subject, heads in subject_heads.items():\n",
    "    sublist = [subject, \", \".join(heads)]\n",
    "    associations.append(sublist)"
   ]
  },
  {
   "cell_type": "code",
   "execution_count": 79,
   "id": "77cfa953-3b6e-4c6e-a281-8e893dd59e75",
   "metadata": {
    "scrolled": true
   },
   "outputs": [
    {
     "name": "stdout",
     "output_type": "stream",
     "text": [
      "Subject       Associated heads\n",
      "------------  --------------------------------------------------------\n",
      "Circe         sent, told\n",
      "wind          headed, tossed, sprang\n",
      "sails         were\n",
      "sun           went\n",
      "darkness      was\n",
      "rays          pierce\n",
      "wretches      live\n",
      "Eurylochus    held\n",
      "Teiresias     have, answered\n",
      "blood         run\n",
      "ghosts        came, come, stood, gathered, screaming\n",
      "men           worn\n",
      "armour        smirched\n",
      "ghost         was, saying, came, came, close, went, came, came, strode\n",
      "Elpenor       said\n",
      "man           left, cross, was, kill, do\n",
      "heaven        make, vouchsafe, take\n",
      "ship          reaches, went\n",
      "hardship      reach\n",
      "people        heard, bless, are\n",
      "wayfarer      meet\n",
      "death         come\n",
      "life          ebb, left\n",
      "taste         talk\n",
      "prophecyings  spoken\n",
      "mother        came, answered\n",
      "wife          intends, remains, is, allow\n",
      "one           got, invites, told, was\n",
      "Telemachus    holds\n",
      "lands         undisturbed\n",
      "father        remains\n",
      "weather       comes\n",
      "Proserpine    want, sent, dismissed, send\n",
      "sinews        hold\n",
      "soul          flits\n",
      "wave          arched\n",
      "god           accomplished\n",
      "embraces      are\n",
      "Pelias        was\n",
      "rest          were\n",
      "gods          proclaimed, borne\n",
      "Epicaste      went\n",
      "spirits       haunted\n",
      "Chloris       given\n",
      "Neleus        married, give\n",
      "woman         round\n",
      "will          was\n",
      "rangers       caught\n",
      "year          passed\n",
      "season        came\n",
      "Iphicles      set\n",
      "heroes        lying\n",
      "Orion         excepted\n",
      "Apollo        killed\n",
      "Theseus       carrying\n",
      "Diana         killed\n",
      "Bacchus       said\n",
      "guests        sat\n",
      "Arete         said\n",
      "friends       spoke\n",
      "queen         said\n",
      "decision      rests\n",
      "thing         done\n",
      "guest         is\n",
      "Ulysses       answered, replied, answered, are\n",
      "evenings      are\n",
      "time-         go\n",
      "Neptune       raise\n",
      "enemies       make\n",
      "foes          despatch\n",
      "Aegisthus     were\n",
      "comrades      slain\n",
      "daughter      scream\n",
      "Clytemnestra  killed, hatched\n",
      "crime         brought\n",
      "Jove          hated, bore\n",
      "Penelope      is\n",
      "child         grown\n",
      "son           is\n",
      "descendant    knew\n",
      "limbs         fail\n",
      "judgement     was, rankle\n",
      "Nestor        were\n",
      "others        fell\n",
      "Epeus         made\n",
      "leaders       drying\n",
      "rage          is\n",
      "Thetis        offered\n",
      "prisoners     were\n",
      "blame         laid\n",
      "Tityus        stretched\n",
      "vultures      digging\n",
      "creature      stooped, stretched\n",
      "weight        be\n",
      "stone         come\n",
      "sweat         ran\n",
      "steam         rose\n",
      "Hercules      knew\n",
      "Mercury       helped\n",
      "thousands     came\n"
     ]
    }
   ],
   "source": [
    "print(tabulate(associations, [\"Subject\", \"Associated heads\"]))"
   ]
  },
  {
   "cell_type": "code",
   "execution_count": null,
   "id": "21917088-85e7-4173-8070-5d405cc295ce",
   "metadata": {},
   "outputs": [],
   "source": []
  }
 ],
 "metadata": {
  "kernelspec": {
   "display_name": "Python [conda env:nlp_workshop]",
   "language": "python",
   "name": "conda-env-nlp_workshop-py"
  },
  "language_info": {
   "codemirror_mode": {
    "name": "ipython",
    "version": 3
   },
   "file_extension": ".py",
   "mimetype": "text/x-python",
   "name": "python",
   "nbconvert_exporter": "python",
   "pygments_lexer": "ipython3",
   "version": "3.11.4"
  }
 },
 "nbformat": 4,
 "nbformat_minor": 5
}
