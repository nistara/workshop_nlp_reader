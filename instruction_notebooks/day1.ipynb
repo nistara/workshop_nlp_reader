{
 "cells": [
  {
   "cell_type": "code",
   "execution_count": 1,
   "id": "0578d84a-1e2a-4ca0-af70-c3885e74937f",
   "metadata": {},
   "outputs": [],
   "source": [
    "path = \"data/section_one/s1/shelley_frankenstein.txt\"\n",
    "with open(path, \"r\") as fin:\n",
    "    frankenstein = fin.read()"
   ]
  },
  {
   "cell_type": "code",
   "execution_count": 2,
   "id": "ef532169-86f7-4e71-8c08-0be310ca9656",
   "metadata": {},
   "outputs": [
    {
     "name": "stdout",
     "output_type": "stream",
     "text": [
      "Letter 1\n",
      "\n",
      "_To Mrs. Saville, England._\n",
      "\n",
      "\n",
      "St. Petersburgh, Dec. 11th, 17—.\n",
      "\n",
      "\n",
      "You will rejoice to hear that no disaster has accompanied the\n",
      "commencement of an enterprise which you have regarded with such evil\n",
      "forebodings. I arrived here yesterday, and my first task is to assure\n",
      "my dear sister of my welfare and increasing confidence in the success\n",
      "of my undertaking.\n"
     ]
    }
   ],
   "source": [
    "print(frankenstein[:364])"
   ]
  },
  {
   "cell_type": "code",
   "execution_count": 3,
   "id": "03c28070-a0a5-433e-ae49-38d383a8d6e9",
   "metadata": {},
   "outputs": [
    {
     "data": {
      "text/plain": [
       "'Letter 1\\n\\n_To Mrs. Saville, England._\\n\\n\\nSt. Petersburgh, Dec. 11th, 17—.\\n\\n\\nYou will rejoice to hear that no disaster has accompanied the\\ncommencement of an enterprise which you have regarded with such evil\\nforebodings. I arrived here yesterday, and my first task is to assure\\nmy dear sister of my welfare and increasing confidence in the success\\nof my undertaking.'"
      ]
     },
     "execution_count": 3,
     "metadata": {},
     "output_type": "execute_result"
    }
   ],
   "source": [
    "frankenstein[:364]"
   ]
  },
  {
   "cell_type": "code",
   "execution_count": 4,
   "id": "b6e18507-6aed-4ad6-8d32-f09c028a4300",
   "metadata": {},
   "outputs": [
    {
     "data": {
      "text/plain": [
       "418917"
      ]
     },
     "execution_count": 4,
     "metadata": {},
     "output_type": "execute_result"
    }
   ],
   "source": [
    "len(frankenstein)"
   ]
  },
  {
   "cell_type": "code",
   "execution_count": 8,
   "id": "7853d0ea-1d49-4f55-98b0-2d6cd251af2a",
   "metadata": {},
   "outputs": [
    {
     "data": {
      "text/plain": [
       "11590"
      ]
     },
     "execution_count": 8,
     "metadata": {},
     "output_type": "execute_result"
    }
   ],
   "source": [
    "doc = frankenstein.split()\n",
    "len(set(doc))"
   ]
  },
  {
   "cell_type": "code",
   "execution_count": 9,
   "id": "20deab54-96da-434d-9a17-806f09b56419",
   "metadata": {},
   "outputs": [
    {
     "data": {
      "text/plain": [
       "83"
      ]
     },
     "execution_count": 9,
     "metadata": {},
     "output_type": "execute_result"
    }
   ],
   "source": [
    "# Tokens\n",
    "len(set(frankenstein))"
   ]
  },
  {
   "cell_type": "code",
   "execution_count": 10,
   "id": "c096983a-df43-4bbd-9967-5ab0c5ee112c",
   "metadata": {},
   "outputs": [
    {
     "data": {
      "text/plain": [
       "{'\\n',\n",
       " ' ',\n",
       " '!',\n",
       " '(',\n",
       " ')',\n",
       " ',',\n",
       " '-',\n",
       " '.',\n",
       " '0',\n",
       " '1',\n",
       " '2',\n",
       " '3',\n",
       " '4',\n",
       " '5',\n",
       " '6',\n",
       " '7',\n",
       " '8',\n",
       " '9',\n",
       " ':',\n",
       " ';',\n",
       " '?',\n",
       " 'A',\n",
       " 'B',\n",
       " 'C',\n",
       " 'D',\n",
       " 'E',\n",
       " 'F',\n",
       " 'G',\n",
       " 'H',\n",
       " 'I',\n",
       " 'J',\n",
       " 'K',\n",
       " 'L',\n",
       " 'M',\n",
       " 'N',\n",
       " 'O',\n",
       " 'P',\n",
       " 'R',\n",
       " 'S',\n",
       " 'T',\n",
       " 'U',\n",
       " 'V',\n",
       " 'W',\n",
       " 'Y',\n",
       " '[',\n",
       " ']',\n",
       " '_',\n",
       " 'a',\n",
       " 'b',\n",
       " 'c',\n",
       " 'd',\n",
       " 'e',\n",
       " 'f',\n",
       " 'g',\n",
       " 'h',\n",
       " 'i',\n",
       " 'j',\n",
       " 'k',\n",
       " 'l',\n",
       " 'm',\n",
       " 'n',\n",
       " 'o',\n",
       " 'p',\n",
       " 'q',\n",
       " 'r',\n",
       " 's',\n",
       " 't',\n",
       " 'u',\n",
       " 'v',\n",
       " 'w',\n",
       " 'x',\n",
       " 'y',\n",
       " 'z',\n",
       " 'æ',\n",
       " 'è',\n",
       " 'é',\n",
       " 'ê',\n",
       " 'ô',\n",
       " '—',\n",
       " '‘',\n",
       " '’',\n",
       " '“',\n",
       " '”'}"
      ]
     },
     "execution_count": 10,
     "metadata": {},
     "output_type": "execute_result"
    }
   ],
   "source": [
    "set(frankenstein)"
   ]
  },
  {
   "cell_type": "code",
   "execution_count": 12,
   "id": "f7eba446-45be-40af-88f8-d20c23212aa3",
   "metadata": {},
   "outputs": [],
   "source": [
    "from collections import Counter"
   ]
  },
  {
   "cell_type": "code",
   "execution_count": 15,
   "id": "42f4168f-2f8c-4a93-b3b7-7dae6f8f382e",
   "metadata": {},
   "outputs": [
    {
     "data": {
      "text/plain": [
       "[(' ', 68672), ('e', 43982), ('t', 28282), ('a', 25362), ('o', 23768)]"
      ]
     },
     "execution_count": 15,
     "metadata": {},
     "output_type": "execute_result"
    }
   ],
   "source": [
    "characters = Counter(frankenstein)\n",
    "characters.most_common(5)"
   ]
  },
  {
   "cell_type": "code",
   "execution_count": 16,
   "id": "0b719d66-be39-4fcf-9af6-6acaa53244be",
   "metadata": {},
   "outputs": [
    {
     "data": {
      "text/plain": [
       "['Letter', '1', '_To']"
      ]
     },
     "execution_count": 16,
     "metadata": {},
     "output_type": "execute_result"
    }
   ],
   "source": [
    "doc[:3]"
   ]
  },
  {
   "cell_type": "code",
   "execution_count": 17,
   "id": "d6699475-9689-41f5-9ee0-88ab737ddd8b",
   "metadata": {},
   "outputs": [
    {
     "data": {
      "text/plain": [
       "[('the', 3897), ('and', 2903), ('I', 2719), ('of', 2634), ('to', 2072)]"
      ]
     },
     "execution_count": 17,
     "metadata": {},
     "output_type": "execute_result"
    }
   ],
   "source": [
    "words = Counter(doc)\n",
    "words.most_common(5)"
   ]
  },
  {
   "cell_type": "code",
   "execution_count": 21,
   "id": "b718dacd-2e82-44aa-a91f-ce390f7582e8",
   "metadata": {},
   "outputs": [
    {
     "name": "stdout",
     "output_type": "stream",
     "text": [
      "imagination  14\n",
      "monster      21\n",
      "letter       17\n",
      "Letter       4\n"
     ]
    }
   ],
   "source": [
    "to_count = (\"imagination\", \"monster\", \"letter\", \"Letter\")\n",
    "for token in to_count:\n",
    "    print(f\"{token:<12} {words[token]}\")"
   ]
  },
  {
   "cell_type": "code",
   "execution_count": 25,
   "id": "04343487-1519-41d9-91d0-a90cd6fe4c80",
   "metadata": {},
   "outputs": [
    {
     "name": "stdout",
     "output_type": "stream",
     "text": [
      "Letter       4\n",
      "letter,      4\n",
      "letters      12\n",
      "letter       17\n",
      "letter.      2\n",
      "letters,     3\n",
      "letters;     1\n",
      "letter:      1\n",
      "letters.     1\n"
     ]
    }
   ],
   "source": [
    "for token in words:\n",
    "    if \"letter\" in token or \"Letter\" in token:\n",
    "        print(f\"{token:<12} {words[token]}\")"
   ]
  },
  {
   "cell_type": "code",
   "execution_count": 26,
   "id": "6059e2ed-5342-4903-b7c4-c69c44bcfceb",
   "metadata": {},
   "outputs": [],
   "source": [
    "import re\n",
    "from collections import Counter"
   ]
  },
  {
   "cell_type": "code",
   "execution_count": 27,
   "id": "3bde423a-3603-4be1-abec-ac22137fbf21",
   "metadata": {},
   "outputs": [
    {
     "data": {
      "text/plain": [
       "Counter({'this': 2, 'is': 2, 'a': 2, 'sentence.': 1, 'also': 1, 'sentence': 1})"
      ]
     },
     "execution_count": 27,
     "metadata": {},
     "output_type": "execute_result"
    }
   ],
   "source": [
    "def count_tokens(doc: str):\n",
    "    \"\"\"Count tokens in a document.\"\"\"\n",
    "    doc = doc.split()\n",
    "    counts = Counter(doc)\n",
    "\n",
    "    return counts\n",
    "\n",
    "count_tokens(\"this is a sentence. this is also a sentence\")"
   ]
  },
  {
   "cell_type": "code",
   "execution_count": 29,
   "id": "f57dd690-6cc6-4114-9b69-dfceafc8f1a6",
   "metadata": {},
   "outputs": [
    {
     "name": "stdout",
     "output_type": "stream",
     "text": [
      "11590\n"
     ]
    }
   ],
   "source": [
    "counts = count_tokens(frankenstein)\n",
    "print(len(counts))"
   ]
  },
  {
   "cell_type": "code",
   "execution_count": 31,
   "id": "79d3292f-d5b1-42b2-89a2-5c8e857a83fc",
   "metadata": {},
   "outputs": [
    {
     "name": "stdout",
     "output_type": "stream",
     "text": [
      "11219\n"
     ]
    }
   ],
   "source": [
    "lowercase = frankenstein.lower()\n",
    "counts = count_tokens(lowercase)\n",
    "print(len(counts))"
   ]
  },
  {
   "cell_type": "code",
   "execution_count": 32,
   "id": "87981678-1e7d-4872-a44e-cef01a0e6f35",
   "metadata": {},
   "outputs": [],
   "source": [
    "s = \"I'm a self-taught programmer.\""
   ]
  },
  {
   "cell_type": "code",
   "execution_count": 35,
   "id": "5637f0fb-bad7-4921-995b-2cd195fb24cf",
   "metadata": {},
   "outputs": [
    {
     "data": {
      "text/plain": [
       "'Im a selftaught programmer'"
      ]
     },
     "execution_count": 35,
     "metadata": {},
     "output_type": "execute_result"
    }
   ],
   "source": [
    "re.sub(r\"[^\\w\\s]\", \"\", s)"
   ]
  },
  {
   "cell_type": "code",
   "execution_count": 36,
   "id": "c5169d55-b8d1-489b-b56a-330c38595c8f",
   "metadata": {},
   "outputs": [],
   "source": [
    "import nltk"
   ]
  },
  {
   "cell_type": "code",
   "execution_count": 41,
   "id": "1a330b8b-2b06-4cff-8d40-d05d8b6f6ab6",
   "metadata": {},
   "outputs": [
    {
     "data": {
      "text/plain": [
       "['That', \"'s\", 'another', 'tokenization', 'method', '.']"
      ]
     },
     "execution_count": 41,
     "metadata": {},
     "output_type": "execute_result"
    }
   ],
   "source": [
    "nltk.word_tokenize(\"That's another tokenization method.\")"
   ]
  },
  {
   "cell_type": "code",
   "execution_count": 39,
   "id": "2a7d553e-93e2-4812-9397-5aa8b5e0097c",
   "metadata": {},
   "outputs": [
    {
     "data": {
      "text/plain": [
       "'Im a self taught programmer'"
      ]
     },
     "execution_count": 39,
     "metadata": {},
     "output_type": "execute_result"
    }
   ],
   "source": [
    "cleaned = re.sub(r\"-\", \" \", s)\n",
    "cleaned = re.sub(r\"[^\\w\\s]\", \"\", cleaned)\n",
    "cleaned"
   ]
  },
  {
   "cell_type": "code",
   "execution_count": 40,
   "id": "b7baddf0-c8b0-4a8f-8e98-05893a4d7b1c",
   "metadata": {},
   "outputs": [],
   "source": [
    "to_remove = {r\"-\": \" \", r\"[^\\w\\s]\": \"\"}\n",
    "cleaned = s\n",
    "for pattern, replacement in to_remove.items():\n",
    "    cleaned = re.sub(pattern, replacement, cleaned)"
   ]
  },
  {
   "cell_type": "code",
   "execution_count": null,
   "id": "1dbebb1c-6b8e-4a5b-8c0c-792e4f55c4bd",
   "metadata": {},
   "outputs": [],
   "source": [
    "re.sub(r\"\\d{1,4}\", \"\", frankenstein)"
   ]
  },
  {
   "cell_type": "code",
   "execution_count": 45,
   "id": "78650554-bedc-4256-9b63-88cb6000ce93",
   "metadata": {},
   "outputs": [],
   "source": [
    "import nltk\n",
    "from nltk.stem.porter import PorterStemmer\n",
    "from nltk.stem.wordnet import WordNetLemmatizer\n",
    "from nltk import collocations\n",
    "import numpy as np\n",
    "import pandas as pd\n",
    "import matplotlib.pyplot as plt\n",
    "import seaborn as sns"
   ]
  },
  {
   "cell_type": "code",
   "execution_count": null,
   "id": "51171869-34e7-4f54-a611-1958e7384ff7",
   "metadata": {},
   "outputs": [],
   "source": [
    "# nltk.download(\"wordnet\")"
   ]
  },
  {
   "cell_type": "code",
   "execution_count": 44,
   "id": "4de20764-826c-4af7-ab54-114110305e98",
   "metadata": {},
   "outputs": [
    {
     "data": {
      "text/plain": [
       "True"
      ]
     },
     "execution_count": 44,
     "metadata": {},
     "output_type": "execute_result"
    }
   ],
   "source": [
    "# Install from base conda/mamba environment\n",
    "# python -m ipykernel install --user --name=nlp_workshop"
   ]
  },
  {
   "cell_type": "code",
   "execution_count": 47,
   "id": "c3d647bb-f45d-4ebc-bf6e-9d3b58e3505e",
   "metadata": {},
   "outputs": [
    {
     "data": {
      "text/plain": [
       "['This', 'is', 'some', 'language.']"
      ]
     },
     "execution_count": 47,
     "metadata": {},
     "output_type": "execute_result"
    }
   ],
   "source": [
    "\"This is some language.\".split()"
   ]
  },
  {
   "cell_type": "code",
   "execution_count": 49,
   "id": "278bc2f4-3741-4b82-8a73-3a799415e9cd",
   "metadata": {},
   "outputs": [],
   "source": [
    "def tokenize_text(doc):\n",
    "    \"\"\"Clean punctuation, digits, and similar cruft from a document\n",
    "    and then tokenize it on white spaces.\n",
    "    \"\"\"\n",
    "    doc = re.sub(r\"-\", \" \", doc)\n",
    "    doc = re.sub(r\"[^\\w\\s]\", \"\", doc)\n",
    "    doc = re.sub(r\"_\", \"\", doc)\n",
    "    doc = re.sub(r\"[0-9]\", \"\", doc)\n",
    "    doc = re.sub(r\"\\s+\", \" \", doc)\n",
    "    doc = doc.strip()\n",
    "    doc = doc.lower()\n",
    "    tokens = doc.split()\n",
    "\n",
    "    return tokens"
   ]
  },
  {
   "cell_type": "code",
   "execution_count": 52,
   "id": "c5255d35-6c61-42b1-8ab4-a19c987ac65d",
   "metadata": {},
   "outputs": [
    {
     "data": {
      "text/plain": [
       "[('the', 4188),\n",
       " ('and', 2970),\n",
       " ('i', 2842),\n",
       " ('of', 2640),\n",
       " ('to', 2092),\n",
       " ('my', 1773),\n",
       " ('a', 1384),\n",
       " ('in', 1128),\n",
       " ('was', 1021),\n",
       " ('that', 1014),\n",
       " ('me', 864),\n",
       " ('had', 686),\n",
       " ('but', 685),\n",
       " ('with', 666),\n",
       " ('he', 604),\n",
       " ('you', 572),\n",
       " ('which', 558),\n",
       " ('it', 546),\n",
       " ('his', 533),\n",
       " ('as', 526),\n",
       " ('not', 508),\n",
       " ('for', 496),\n",
       " ('by', 460),\n",
       " ('on', 460),\n",
       " ('this', 401)]"
      ]
     },
     "execution_count": 52,
     "metadata": {},
     "output_type": "execute_result"
    }
   ],
   "source": [
    "tokenized = tokenize_text(frankenstein)\n",
    "counts = Counter(tokenized)\n",
    "counts.most_common(25)"
   ]
  },
  {
   "cell_type": "code",
   "execution_count": 54,
   "id": "d7d56e51-dde7-4103-a31b-d5a4f5020ead",
   "metadata": {},
   "outputs": [],
   "source": [
    "def plot_counts(counts, n_words = 200, by_x = 10):\n",
    "    \"\"\"Plot word counts.\"\"\"\n",
    "    counts = pd.DataFrame(counts.items(), columns = (\"word\", \"count\"))\n",
    "    counts.sort_values(\"count\", ascending = False, inplace = True)\n",
    "\n",
    "    fig, ax = plt.subplots(figsize = (9, 6))\n",
    "    g = sns.lineplot(\n",
    "        data = counts[:n_words], x = \"word\", y = \"count\", ax = ax\n",
    "    )\n",
    "    g.set(xlabel = \"Words\", ylabel = \"Counts\")\n",
    "    plt.xticks(rotation = 90, ticks = range(0, n_words, by_x));"
   ]
  },
  {
   "cell_type": "code",
   "execution_count": 55,
   "id": "5a3b4c84-0a86-4afe-8351-3ebcf35e1d18",
   "metadata": {},
   "outputs": [
    {
     "data": {
      "text/plain": [
       "4188"
      ]
     },
     "execution_count": 55,
     "metadata": {},
     "output_type": "execute_result"
    }
   ],
   "source": [
    "counts[\"the\"]"
   ]
  },
  {
   "cell_type": "code",
   "execution_count": 56,
   "id": "60fe67e0-77cb-4887-812a-eb58c548df57",
   "metadata": {},
   "outputs": [
    {
     "data": {
      "image/png": "[encoded data removed]",
      "text/plain": [
       "<Figure size 900x600 with 1 Axes>"
      ]
     },
     "metadata": {},
     "output_type": "display_data"
    }
   ],
   "source": [
    "plot_counts(counts, len(counts), by_x = 150)"
   ]
  },
  {
   "cell_type": "code",
   "execution_count": 58,
   "id": "f6d2c70b-29dc-48a0-b693-bf2864a891e9",
   "metadata": {},
   "outputs": [
    {
     "data": {
      "image/png": "[encoded data removed]",
      "text/plain": [
       "<Figure size 900x600 with 1 Axes>"
      ]
     },
     "metadata": {},
     "output_type": "display_data"
    }
   ],
   "source": [
    "plot_counts(counts, 100, 2)"
   ]
  },
  {
   "cell_type": "code",
   "execution_count": 59,
   "id": "4a0fc34d-50f5-4d21-abee-55f3bc9309f9",
   "metadata": {},
   "outputs": [],
   "source": [
    "top50 = sum(count for word, count in counts.most_common(50))\n",
    "total = counts.total()"
   ]
  },
  {
   "cell_type": "code",
   "execution_count": 60,
   "id": "da40b207-7a2b-4511-8c49-f66b3e1fb5b8",
   "metadata": {},
   "outputs": [
    {
     "data": {
      "text/plain": [
       "0.4765984092513889"
      ]
     },
     "execution_count": 60,
     "metadata": {},
     "output_type": "execute_result"
    }
   ],
   "source": [
    "top50 / total"
   ]
  },
  {
   "cell_type": "code",
   "execution_count": 64,
   "id": "ab75e194-860a-47f2-a1b2-8b55db6b51cc",
   "metadata": {
    "scrolled": true
   },
   "outputs": [
    {
     "data": {
      "text/plain": [
       "['a',\n",
       " 'about',\n",
       " 'above',\n",
       " 'across',\n",
       " 'after',\n",
       " 'afterwards',\n",
       " 'again',\n",
       " 'against',\n",
       " 'all',\n",
       " 'almost',\n",
       " 'alone',\n",
       " 'along',\n",
       " 'already',\n",
       " 'also',\n",
       " 'although',\n",
       " 'always',\n",
       " 'am',\n",
       " 'among',\n",
       " 'amongst',\n",
       " 'amoungst',\n",
       " 'amount',\n",
       " 'an',\n",
       " 'and',\n",
       " 'another',\n",
       " 'any']"
      ]
     },
     "execution_count": 64,
     "metadata": {},
     "output_type": "execute_result"
    }
   ],
   "source": [
    "stoplist = \"data/voyant_stoplist.txt\"\n",
    "with open(stoplist, \"r\") as fin:\n",
    "    stopwords = fin.read().split(\"\\n\")\n",
    "\n",
    "stopwords[:25]"
   ]
  },
  {
   "cell_type": "code",
   "execution_count": 65,
   "id": "d2857f94-d44e-4f57-99f2-5751b6042b72",
   "metadata": {},
   "outputs": [
    {
     "data": {
      "image/png": "[encoded data removed]",
      "text/plain": [
       "<Figure size 900x600 with 1 Axes>"
      ]
     },
     "metadata": {},
     "output_type": "display_data"
    }
   ],
   "source": [
    "stopped = [token for token in tokenized if token not in stopwords]\n",
    "stopped_counts = Counter(stopped)\n",
    "plot_counts(stopped_counts, 200, 5)"
   ]
  },
  {
   "cell_type": "code",
   "execution_count": 74,
   "id": "b6ab04d3-b55d-421b-b022-684acb11bbda",
   "metadata": {
    "scrolled": true
   },
   "outputs": [
    {
     "name": "stdout",
     "output_type": "stream",
     "text": [
      "didst 1\n",
      "hadst 1\n",
      "wouldst 1\n",
      "rankle 1\n",
      "triumphantly 1\n",
      "exult 1\n",
      "torturing 1\n",
      "conflagration 1\n",
      "fade 1\n",
      "thinks 1\n"
     ]
    }
   ],
   "source": [
    "least_freq = list(stopped_counts.keys())[-10:]\n",
    "for tok in least_freq:\n",
    "    print(tok, stopped_counts[tok])"
   ]
  },
  {
   "cell_type": "code",
   "execution_count": 69,
   "id": "c0bf629d-e828-401c-919f-923c46c8cc3d",
   "metadata": {},
   "outputs": [
    {
     "data": {
      "text/plain": [
       "30608"
      ]
     },
     "execution_count": 69,
     "metadata": {},
     "output_type": "execute_result"
    }
   ],
   "source": [
    "stopped_counts.total()"
   ]
  },
  {
   "cell_type": "code",
   "execution_count": 70,
   "id": "666393c4-ccee-4957-a4cf-9068b68e9d12",
   "metadata": {},
   "outputs": [
    {
     "data": {
      "text/plain": [
       "6817"
      ]
     },
     "execution_count": 70,
     "metadata": {},
     "output_type": "execute_result"
    }
   ],
   "source": [
    "len(stopped_counts)"
   ]
  },
  {
   "cell_type": "code",
   "execution_count": 75,
   "id": "b6fbdd8b-a176-4219-82d4-8957f92d2e3f",
   "metadata": {},
   "outputs": [
    {
     "name": "stdout",
     "output_type": "stream",
     "text": [
      "The\n",
      "strong\n",
      "coffee\n",
      ",\n",
      "which\n",
      "I\n",
      "had\n",
      "after\n",
      "lunch\n",
      ",\n",
      "was\n",
      "$\n",
      "4\n",
      ".\n",
      "It\n",
      "kept\n",
      "me\n",
      "going\n",
      "the\n",
      "rest\n",
      "of\n",
      "the\n",
      "day\n",
      ".\n"
     ]
    }
   ],
   "source": [
    "example = \"\"\"The strong coffee, which I had after lunch, was $4.\n",
    "It kept me going the rest of the day.\n",
    "\"\"\"\n",
    "ex_tokens = nltk.word_tokenize(example)\n",
    "for token in ex_tokens:\n",
    "    print(token)"
   ]
  },
  {
   "cell_type": "code",
   "execution_count": 78,
   "id": "779adc96-c3f4-4c4e-ad5c-26a0f03e93b2",
   "metadata": {},
   "outputs": [
    {
     "name": "stdout",
     "output_type": "stream",
     "text": [
      "('The', 'DT')\n",
      "('strong', 'JJ')\n",
      "('coffee', 'NN')\n",
      "(',', ',')\n",
      "('which', 'WDT')\n",
      "('I', 'PRP')\n",
      "('had', 'VBD')\n",
      "('after', 'IN')\n",
      "('lunch', 'NN')\n",
      "(',', ',')\n",
      "('was', 'VBD')\n",
      "('$', '$')\n",
      "('4', 'CD')\n",
      "('.', '.')\n",
      "('It', 'PRP')\n",
      "('kept', 'VBD')\n",
      "('me', 'PRP')\n",
      "('going', 'VBG')\n",
      "('the', 'DT')\n",
      "('rest', 'NN')\n",
      "('of', 'IN')\n",
      "('the', 'DT')\n",
      "('day', 'NN')\n",
      "('.', '.')\n"
     ]
    }
   ],
   "source": [
    "tagged = nltk.pos_tag(ex_tokens)\n",
    "# Penn treebank tags\n",
    "for pair in tagged:\n",
    "    print(pair)"
   ]
  },
  {
   "cell_type": "code",
   "execution_count": 77,
   "id": "19454870-9fca-4216-9baf-80166852959b",
   "metadata": {},
   "outputs": [],
   "source": [
    "lemmatizer = WordNetLemmatizer()"
   ]
  },
  {
   "cell_type": "code",
   "execution_count": 84,
   "id": "f0979233-c65b-43e8-a19e-3cb83497f22d",
   "metadata": {},
   "outputs": [
    {
     "data": {
      "text/plain": [
       "'keep'"
      ]
     },
     "execution_count": 84,
     "metadata": {},
     "output_type": "execute_result"
    }
   ],
   "source": [
    "lemmatizer.lemmatize(\"kept\", pos = wordnet.VERB)"
   ]
  },
  {
   "cell_type": "code",
   "execution_count": 80,
   "id": "68dfc6ab-76f8-4889-bd0c-695ad4c32720",
   "metadata": {},
   "outputs": [],
   "source": [
    "wordnet = nltk.corpus.wordnet\n",
    "\n",
    "def convert_tag(tag):\n",
    "    \"\"\"Convert Penn treebank tags to Wordnet tags.\"\"\"\n",
    "    if tag.startswith(\"J\"):\n",
    "        tag = wordnet.ADJ\n",
    "    elif tag.startswith(\"V\"):\n",
    "        tag = wordnet.VERB\n",
    "    elif tag.startswith(\"N\"):\n",
    "        tag = wordnet.NOUN\n",
    "    elif tag.startswith(\"R\"):\n",
    "        tag = wordnet.ADV\n",
    "    else:\n",
    "        tag = \"\"\n",
    "\n",
    "    return tag"
   ]
  },
  {
   "cell_type": "code",
   "execution_count": 87,
   "id": "3030fda0-9350-4e5c-b94d-d538df774c86",
   "metadata": {},
   "outputs": [
    {
     "name": "stdout",
     "output_type": "stream",
     "text": [
      "Token: The => Lemma: The\n",
      "Token: strong => Lemma: strong\n",
      "Token: coffee => Lemma: coffee\n",
      "Token: , => Lemma: ,\n",
      "Token: which => Lemma: which\n",
      "Token: I => Lemma: I\n",
      "Token: had => Lemma: have\n",
      "Token: after => Lemma: after\n",
      "Token: lunch => Lemma: lunch\n",
      "Token: , => Lemma: ,\n",
      "Token: was => Lemma: be\n",
      "Token: $ => Lemma: $\n",
      "Token: 4 => Lemma: 4\n",
      "Token: . => Lemma: .\n",
      "Token: It => Lemma: It\n",
      "Token: kept => Lemma: keep\n",
      "Token: me => Lemma: me\n",
      "Token: going => Lemma: go\n",
      "Token: the => Lemma: the\n",
      "Token: rest => Lemma: rest\n",
      "Token: of => Lemma: of\n",
      "Token: the => Lemma: the\n",
      "Token: day => Lemma: day\n",
      "Token: . => Lemma: .\n"
     ]
    }
   ],
   "source": [
    "for (token, tag) in tagged:\n",
    "    tag = convert_tag(tag)\n",
    "    if tag:      \n",
    "        lemma = lemmatizer.lemmatize(token, pos = tag)\n",
    "    else:\n",
    "        lemma = lemmatizer.lemmatize(token)\n",
    "    print(f\"Token: {token} => Lemma: {lemma}\")"
   ]
  },
  {
   "cell_type": "code",
   "execution_count": 88,
   "id": "1bbab3ba-770b-4697-ac9c-1154f5d3fb3e",
   "metadata": {},
   "outputs": [],
   "source": [
    "stemmer = PorterStemmer()"
   ]
  },
  {
   "cell_type": "code",
   "execution_count": 90,
   "id": "1ca837f8-7f8b-42fa-8b89-c31f3c48a318",
   "metadata": {},
   "outputs": [
    {
     "name": "stdout",
     "output_type": "stream",
     "text": [
      "complicated complic\n",
      "complicity complic\n"
     ]
    }
   ],
   "source": [
    "matrix = [\"complicated\", \"complicity\"]\n",
    "for token in matrix:\n",
    "    stem = stemmer.stem(token)\n",
    "    print(token, stem)"
   ]
  },
  {
   "cell_type": "code",
   "execution_count": 91,
   "id": "1de9f495-afe7-44c5-84f0-10162284e8e7",
   "metadata": {},
   "outputs": [],
   "source": [
    "finder = collocations.BigramCollocationFinder.from_words(stopped)"
   ]
  },
  {
   "cell_type": "code",
   "execution_count": 92,
   "id": "5d89885e-6b1e-4ba4-bf51-1debec3a08f7",
   "metadata": {},
   "outputs": [],
   "source": [
    "bigrams = finder.ngram_fd\n",
    "bigrams = [(word, pair, count) for (word, pair), count in bigrams.items()]\n",
    "bigrams = pd.DataFrame(bigrams, columns = (\"word\", \"pair\", \"count\"))\n",
    "bigrams.sort_values(\"count\", ascending = False, inplace = True)"
   ]
  },
  {
   "cell_type": "code",
   "execution_count": 93,
   "id": "4bef7ea7-e9b3-4f54-807f-8a510e74f169",
   "metadata": {},
   "outputs": [
    {
     "data": {
      "text/html": [
       "<div>\n",
       "<style scoped>\n",
       "    .dataframe tbody tr th:only-of-type {\n",
       "        vertical-align: middle;\n",
       "    }\n",
       "\n",
       "    .dataframe tbody tr th {\n",
       "        vertical-align: top;\n",
       "    }\n",
       "\n",
       "    .dataframe thead th {\n",
       "        text-align: right;\n",
       "    }\n",
       "</style>\n",
       "<table border=\"1\" class=\"dataframe\">\n",
       "  <thead>\n",
       "    <tr style=\"text-align: right;\">\n",
       "      <th></th>\n",
       "      <th>word</th>\n",
       "      <th>pair</th>\n",
       "      <th>count</th>\n",
       "    </tr>\n",
       "  </thead>\n",
       "  <tbody>\n",
       "    <tr>\n",
       "      <th>832</th>\n",
       "      <td>old</td>\n",
       "      <td>man</td>\n",
       "      <td>32</td>\n",
       "    </tr>\n",
       "    <tr>\n",
       "      <th>629</th>\n",
       "      <td>native</td>\n",
       "      <td>country</td>\n",
       "      <td>15</td>\n",
       "    </tr>\n",
       "    <tr>\n",
       "      <th>3353</th>\n",
       "      <td>natural</td>\n",
       "      <td>philosophy</td>\n",
       "      <td>14</td>\n",
       "    </tr>\n",
       "    <tr>\n",
       "      <th>7036</th>\n",
       "      <td>taken</td>\n",
       "      <td>place</td>\n",
       "      <td>13</td>\n",
       "    </tr>\n",
       "    <tr>\n",
       "      <th>22419</th>\n",
       "      <td>mr</td>\n",
       "      <td>kirwin</td>\n",
       "      <td>12</td>\n",
       "    </tr>\n",
       "    <tr>\n",
       "      <th>5932</th>\n",
       "      <td>fellow</td>\n",
       "      <td>creatures</td>\n",
       "      <td>12</td>\n",
       "    </tr>\n",
       "    <tr>\n",
       "      <th>3417</th>\n",
       "      <td>dear</td>\n",
       "      <td>victor</td>\n",
       "      <td>10</td>\n",
       "    </tr>\n",
       "    <tr>\n",
       "      <th>7647</th>\n",
       "      <td>young</td>\n",
       "      <td>man</td>\n",
       "      <td>9</td>\n",
       "    </tr>\n",
       "    <tr>\n",
       "      <th>2650</th>\n",
       "      <td>long</td>\n",
       "      <td>time</td>\n",
       "      <td>9</td>\n",
       "    </tr>\n",
       "    <tr>\n",
       "      <th>6819</th>\n",
       "      <td>short</td>\n",
       "      <td>time</td>\n",
       "      <td>9</td>\n",
       "    </tr>\n",
       "  </tbody>\n",
       "</table>\n",
       "</div>"
      ],
      "text/plain": [
       "          word        pair  count\n",
       "832        old         man     32\n",
       "629     native     country     15\n",
       "3353   natural  philosophy     14\n",
       "7036     taken       place     13\n",
       "22419       mr      kirwin     12\n",
       "5932    fellow   creatures     12\n",
       "3417      dear      victor     10\n",
       "7647     young         man      9\n",
       "2650      long        time      9\n",
       "6819     short        time      9"
      ]
     },
     "execution_count": 93,
     "metadata": {},
     "output_type": "execute_result"
    }
   ],
   "source": [
    "bigrams.head(10)"
   ]
  },
  {
   "cell_type": "code",
   "execution_count": 94,
   "id": "7b2b7e8a-33c3-4354-b2e7-31d38f49c6df",
   "metadata": {},
   "outputs": [],
   "source": [
    "# Pointwise mutual information\n",
    "measures = collocations.BigramAssocMeasures()\n",
    "pmi = finder.score_ngrams(measures.pmi)\n",
    "pmi = [(word, pair, val) for (word, pair), val in pmi]\n",
    "pmi = pd.DataFrame(pmi, columns = (\"word\", \"pair\", \"pmi\"))\n",
    "pmi.sort_values(\"pmi\", ascending = False, inplace = True)"
   ]
  },
  {
   "cell_type": "code",
   "execution_count": 95,
   "id": "7d4131cf-b505-4dd4-a02e-9851b30c3070",
   "metadata": {},
   "outputs": [
    {
     "data": {
      "text/html": [
       "<div>\n",
       "<style scoped>\n",
       "    .dataframe tbody tr th:only-of-type {\n",
       "        vertical-align: middle;\n",
       "    }\n",
       "\n",
       "    .dataframe tbody tr th {\n",
       "        vertical-align: top;\n",
       "    }\n",
       "\n",
       "    .dataframe thead th {\n",
       "        text-align: right;\n",
       "    }\n",
       "</style>\n",
       "<table border=\"1\" class=\"dataframe\">\n",
       "  <thead>\n",
       "    <tr style=\"text-align: right;\">\n",
       "      <th></th>\n",
       "      <th>word</th>\n",
       "      <th>pair</th>\n",
       "      <th>pmi</th>\n",
       "    </tr>\n",
       "  </thead>\n",
       "  <tbody>\n",
       "    <tr>\n",
       "      <th>0</th>\n",
       "      <td>achieve</td>\n",
       "      <td>treading</td>\n",
       "      <td>14.901621</td>\n",
       "    </tr>\n",
       "    <tr>\n",
       "      <th>273</th>\n",
       "      <td>partially</td>\n",
       "      <td>unveiled</td>\n",
       "      <td>14.901621</td>\n",
       "    </tr>\n",
       "    <tr>\n",
       "      <th>283</th>\n",
       "      <td>petty</td>\n",
       "      <td>experimentalist</td>\n",
       "      <td>14.901621</td>\n",
       "    </tr>\n",
       "    <tr>\n",
       "      <th>282</th>\n",
       "      <td>petticoat</td>\n",
       "      <td>linen</td>\n",
       "      <td>14.901621</td>\n",
       "    </tr>\n",
       "    <tr>\n",
       "      <th>281</th>\n",
       "      <td>persevering</td>\n",
       "      <td>prudent</td>\n",
       "      <td>14.901621</td>\n",
       "    </tr>\n",
       "    <tr>\n",
       "      <th>280</th>\n",
       "      <td>pearly</td>\n",
       "      <td>whiteness</td>\n",
       "      <td>14.901621</td>\n",
       "    </tr>\n",
       "    <tr>\n",
       "      <th>279</th>\n",
       "      <td>peak</td>\n",
       "      <td>andes</td>\n",
       "      <td>14.901621</td>\n",
       "    </tr>\n",
       "    <tr>\n",
       "      <th>278</th>\n",
       "      <td>peaceable</td>\n",
       "      <td>lawgivers</td>\n",
       "      <td>14.901621</td>\n",
       "    </tr>\n",
       "    <tr>\n",
       "      <th>277</th>\n",
       "      <td>paying</td>\n",
       "      <td>insurance</td>\n",
       "      <td>14.901621</td>\n",
       "    </tr>\n",
       "    <tr>\n",
       "      <th>276</th>\n",
       "      <td>pauses</td>\n",
       "      <td>nightly</td>\n",
       "      <td>14.901621</td>\n",
       "    </tr>\n",
       "  </tbody>\n",
       "</table>\n",
       "</div>"
      ],
      "text/plain": [
       "            word             pair        pmi\n",
       "0        achieve         treading  14.901621\n",
       "273    partially         unveiled  14.901621\n",
       "283        petty  experimentalist  14.901621\n",
       "282    petticoat            linen  14.901621\n",
       "281  persevering          prudent  14.901621\n",
       "280       pearly        whiteness  14.901621\n",
       "279         peak            andes  14.901621\n",
       "278    peaceable        lawgivers  14.901621\n",
       "277       paying        insurance  14.901621\n",
       "276       pauses          nightly  14.901621"
      ]
     },
     "execution_count": 95,
     "metadata": {},
     "output_type": "execute_result"
    }
   ],
   "source": [
    "pmi.head(10)"
   ]
  },
  {
   "cell_type": "code",
   "execution_count": 96,
   "id": "1c431a5d-9b5b-4eae-8e4a-c661c2845b88",
   "metadata": {},
   "outputs": [
    {
     "data": {
      "text/html": [
       "<div>\n",
       "<style scoped>\n",
       "    .dataframe tbody tr th:only-of-type {\n",
       "        vertical-align: middle;\n",
       "    }\n",
       "\n",
       "    .dataframe tbody tr th {\n",
       "        vertical-align: top;\n",
       "    }\n",
       "\n",
       "    .dataframe thead th {\n",
       "        text-align: right;\n",
       "    }\n",
       "</style>\n",
       "<table border=\"1\" class=\"dataframe\">\n",
       "  <thead>\n",
       "    <tr style=\"text-align: right;\">\n",
       "      <th></th>\n",
       "      <th>word</th>\n",
       "      <th>pair</th>\n",
       "      <th>pmi</th>\n",
       "    </tr>\n",
       "  </thead>\n",
       "  <tbody>\n",
       "    <tr>\n",
       "      <th>29178</th>\n",
       "      <td>said</td>\n",
       "      <td>father</td>\n",
       "      <td>1.409017</td>\n",
       "    </tr>\n",
       "    <tr>\n",
       "      <th>29179</th>\n",
       "      <td>man</td>\n",
       "      <td>saw</td>\n",
       "      <td>1.302638</td>\n",
       "    </tr>\n",
       "    <tr>\n",
       "      <th>29180</th>\n",
       "      <td>saw</td>\n",
       "      <td>man</td>\n",
       "      <td>1.302638</td>\n",
       "    </tr>\n",
       "    <tr>\n",
       "      <th>29181</th>\n",
       "      <td>father</td>\n",
       "      <td>father</td>\n",
       "      <td>1.261263</td>\n",
       "    </tr>\n",
       "    <tr>\n",
       "      <th>29182</th>\n",
       "      <td>life</td>\n",
       "      <td>father</td>\n",
       "      <td>1.248552</td>\n",
       "    </tr>\n",
       "    <tr>\n",
       "      <th>29183</th>\n",
       "      <td>said</td>\n",
       "      <td>man</td>\n",
       "      <td>1.184802</td>\n",
       "    </tr>\n",
       "    <tr>\n",
       "      <th>29184</th>\n",
       "      <td>man</td>\n",
       "      <td>eyes</td>\n",
       "      <td>1.156787</td>\n",
       "    </tr>\n",
       "    <tr>\n",
       "      <th>29185</th>\n",
       "      <td>man</td>\n",
       "      <td>shall</td>\n",
       "      <td>1.142982</td>\n",
       "    </tr>\n",
       "    <tr>\n",
       "      <th>29186</th>\n",
       "      <td>shall</td>\n",
       "      <td>man</td>\n",
       "      <td>1.142982</td>\n",
       "    </tr>\n",
       "    <tr>\n",
       "      <th>29187</th>\n",
       "      <td>man</td>\n",
       "      <td>father</td>\n",
       "      <td>1.037048</td>\n",
       "    </tr>\n",
       "  </tbody>\n",
       "</table>\n",
       "</div>"
      ],
      "text/plain": [
       "         word    pair       pmi\n",
       "29178    said  father  1.409017\n",
       "29179     man     saw  1.302638\n",
       "29180     saw     man  1.302638\n",
       "29181  father  father  1.261263\n",
       "29182    life  father  1.248552\n",
       "29183    said     man  1.184802\n",
       "29184     man    eyes  1.156787\n",
       "29185     man   shall  1.142982\n",
       "29186   shall     man  1.142982\n",
       "29187     man  father  1.037048"
      ]
     },
     "execution_count": 96,
     "metadata": {},
     "output_type": "execute_result"
    }
   ],
   "source": [
    "pmi.tail(10)"
   ]
  },
  {
   "cell_type": "code",
   "execution_count": 97,
   "id": "95ebe1be-5ec4-4ee2-83fa-e6e22338bfec",
   "metadata": {},
   "outputs": [],
   "source": [
    "idx = None\n",
    "for i, token in enumerate(tokenized):\n",
    "    if token == \"persevering\":\n",
    "        idx = i"
   ]
  },
  {
   "cell_type": "code",
   "execution_count": 98,
   "id": "beed23b8-9a3e-4c4e-8cc5-408fdcdd7ac3",
   "metadata": {},
   "outputs": [
    {
     "data": {
      "text/plain": [
       "2740"
      ]
     },
     "execution_count": 98,
     "metadata": {},
     "output_type": "execute_result"
    }
   ],
   "source": [
    "idx"
   ]
  },
  {
   "cell_type": "code",
   "execution_count": null,
   "id": "be856f2a-1b7f-4812-be84-9c453412b87d",
   "metadata": {},
   "outputs": [],
   "source": []
  }
 ],
 "metadata": {
  "kernelspec": {
   "display_name": "Python [conda env:nlp]",
   "language": "python",
   "name": "conda-env-nlp-py"
  },
  "language_info": {
   "codemirror_mode": {
    "name": "ipython",
    "version": 3
   },
   "file_extension": ".py",
   "mimetype": "text/x-python",
   "name": "python",
   "nbconvert_exporter": "python",
   "pygments_lexer": "ipython3",
   "version": "3.11.4"
  }
 },
 "nbformat": 4,
 "nbformat_minor": 5
}
